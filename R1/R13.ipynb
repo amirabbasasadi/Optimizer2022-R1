{
  "nbformat": 4,
  "nbformat_minor": 0,
  "metadata": {
    "colab": {
      "name": "R13.ipynb",
      "provenance": [],
      "collapsed_sections": []
    },
    "kernelspec": {
      "name": "python3",
      "display_name": "Python 3"
    },
    "language_info": {
      "name": "python"
    },
    "widgets": {
      "application/vnd.jupyter.widget-state+json": {
        "1ecd0fdd215c4fe1aa559f1035ce71f0": {
          "model_module": "@jupyter-widgets/controls",
          "model_name": "HBoxModel",
          "model_module_version": "1.5.0",
          "state": {
            "_dom_classes": [],
            "_model_module": "@jupyter-widgets/controls",
            "_model_module_version": "1.5.0",
            "_model_name": "HBoxModel",
            "_view_count": null,
            "_view_module": "@jupyter-widgets/controls",
            "_view_module_version": "1.5.0",
            "_view_name": "HBoxView",
            "box_style": "",
            "children": [
              "IPY_MODEL_bf4fe93076ef4624b7d55e0640bbfef6",
              "IPY_MODEL_70a487ab95e44e3e895fdd0a3df50c46",
              "IPY_MODEL_74c4b5fba5cd40bba0ea53d86fa69aba"
            ],
            "layout": "IPY_MODEL_08e6f77ea2bc44f9ba3251241d1d13ef"
          }
        },
        "bf4fe93076ef4624b7d55e0640bbfef6": {
          "model_module": "@jupyter-widgets/controls",
          "model_name": "HTMLModel",
          "model_module_version": "1.5.0",
          "state": {
            "_dom_classes": [],
            "_model_module": "@jupyter-widgets/controls",
            "_model_module_version": "1.5.0",
            "_model_name": "HTMLModel",
            "_view_count": null,
            "_view_module": "@jupyter-widgets/controls",
            "_view_module_version": "1.5.0",
            "_view_name": "HTMLView",
            "description": "",
            "description_tooltip": null,
            "layout": "IPY_MODEL_a79bd95c595042debda288c18222821c",
            "placeholder": "​",
            "style": "IPY_MODEL_f1cff36f9902440bb318bf47d3d717ee",
            "value": "100%"
          }
        },
        "70a487ab95e44e3e895fdd0a3df50c46": {
          "model_module": "@jupyter-widgets/controls",
          "model_name": "FloatProgressModel",
          "model_module_version": "1.5.0",
          "state": {
            "_dom_classes": [],
            "_model_module": "@jupyter-widgets/controls",
            "_model_module_version": "1.5.0",
            "_model_name": "FloatProgressModel",
            "_view_count": null,
            "_view_module": "@jupyter-widgets/controls",
            "_view_module_version": "1.5.0",
            "_view_name": "ProgressView",
            "bar_style": "success",
            "description": "",
            "description_tooltip": null,
            "layout": "IPY_MODEL_54059b51ed12449783ba81d45007be49",
            "max": 5,
            "min": 0,
            "orientation": "horizontal",
            "style": "IPY_MODEL_7114d0bc27bc4ece84e4b0a8bef2364d",
            "value": 5
          }
        },
        "74c4b5fba5cd40bba0ea53d86fa69aba": {
          "model_module": "@jupyter-widgets/controls",
          "model_name": "HTMLModel",
          "model_module_version": "1.5.0",
          "state": {
            "_dom_classes": [],
            "_model_module": "@jupyter-widgets/controls",
            "_model_module_version": "1.5.0",
            "_model_name": "HTMLModel",
            "_view_count": null,
            "_view_module": "@jupyter-widgets/controls",
            "_view_module_version": "1.5.0",
            "_view_name": "HTMLView",
            "description": "",
            "description_tooltip": null,
            "layout": "IPY_MODEL_5dd749cbe3df4886ad0d9d946e0bc06d",
            "placeholder": "​",
            "style": "IPY_MODEL_cb7c2908ddfe4a8a95e974d63aa54606",
            "value": " 5/5 [00:01&lt;00:00,  2.82it/s]"
          }
        },
        "08e6f77ea2bc44f9ba3251241d1d13ef": {
          "model_module": "@jupyter-widgets/base",
          "model_name": "LayoutModel",
          "model_module_version": "1.2.0",
          "state": {
            "_model_module": "@jupyter-widgets/base",
            "_model_module_version": "1.2.0",
            "_model_name": "LayoutModel",
            "_view_count": null,
            "_view_module": "@jupyter-widgets/base",
            "_view_module_version": "1.2.0",
            "_view_name": "LayoutView",
            "align_content": null,
            "align_items": null,
            "align_self": null,
            "border": null,
            "bottom": null,
            "display": null,
            "flex": null,
            "flex_flow": null,
            "grid_area": null,
            "grid_auto_columns": null,
            "grid_auto_flow": null,
            "grid_auto_rows": null,
            "grid_column": null,
            "grid_gap": null,
            "grid_row": null,
            "grid_template_areas": null,
            "grid_template_columns": null,
            "grid_template_rows": null,
            "height": null,
            "justify_content": null,
            "justify_items": null,
            "left": null,
            "margin": null,
            "max_height": null,
            "max_width": null,
            "min_height": null,
            "min_width": null,
            "object_fit": null,
            "object_position": null,
            "order": null,
            "overflow": null,
            "overflow_x": null,
            "overflow_y": null,
            "padding": null,
            "right": null,
            "top": null,
            "visibility": null,
            "width": null
          }
        },
        "a79bd95c595042debda288c18222821c": {
          "model_module": "@jupyter-widgets/base",
          "model_name": "LayoutModel",
          "model_module_version": "1.2.0",
          "state": {
            "_model_module": "@jupyter-widgets/base",
            "_model_module_version": "1.2.0",
            "_model_name": "LayoutModel",
            "_view_count": null,
            "_view_module": "@jupyter-widgets/base",
            "_view_module_version": "1.2.0",
            "_view_name": "LayoutView",
            "align_content": null,
            "align_items": null,
            "align_self": null,
            "border": null,
            "bottom": null,
            "display": null,
            "flex": null,
            "flex_flow": null,
            "grid_area": null,
            "grid_auto_columns": null,
            "grid_auto_flow": null,
            "grid_auto_rows": null,
            "grid_column": null,
            "grid_gap": null,
            "grid_row": null,
            "grid_template_areas": null,
            "grid_template_columns": null,
            "grid_template_rows": null,
            "height": null,
            "justify_content": null,
            "justify_items": null,
            "left": null,
            "margin": null,
            "max_height": null,
            "max_width": null,
            "min_height": null,
            "min_width": null,
            "object_fit": null,
            "object_position": null,
            "order": null,
            "overflow": null,
            "overflow_x": null,
            "overflow_y": null,
            "padding": null,
            "right": null,
            "top": null,
            "visibility": null,
            "width": null
          }
        },
        "f1cff36f9902440bb318bf47d3d717ee": {
          "model_module": "@jupyter-widgets/controls",
          "model_name": "DescriptionStyleModel",
          "model_module_version": "1.5.0",
          "state": {
            "_model_module": "@jupyter-widgets/controls",
            "_model_module_version": "1.5.0",
            "_model_name": "DescriptionStyleModel",
            "_view_count": null,
            "_view_module": "@jupyter-widgets/base",
            "_view_module_version": "1.2.0",
            "_view_name": "StyleView",
            "description_width": ""
          }
        },
        "54059b51ed12449783ba81d45007be49": {
          "model_module": "@jupyter-widgets/base",
          "model_name": "LayoutModel",
          "model_module_version": "1.2.0",
          "state": {
            "_model_module": "@jupyter-widgets/base",
            "_model_module_version": "1.2.0",
            "_model_name": "LayoutModel",
            "_view_count": null,
            "_view_module": "@jupyter-widgets/base",
            "_view_module_version": "1.2.0",
            "_view_name": "LayoutView",
            "align_content": null,
            "align_items": null,
            "align_self": null,
            "border": null,
            "bottom": null,
            "display": null,
            "flex": null,
            "flex_flow": null,
            "grid_area": null,
            "grid_auto_columns": null,
            "grid_auto_flow": null,
            "grid_auto_rows": null,
            "grid_column": null,
            "grid_gap": null,
            "grid_row": null,
            "grid_template_areas": null,
            "grid_template_columns": null,
            "grid_template_rows": null,
            "height": null,
            "justify_content": null,
            "justify_items": null,
            "left": null,
            "margin": null,
            "max_height": null,
            "max_width": null,
            "min_height": null,
            "min_width": null,
            "object_fit": null,
            "object_position": null,
            "order": null,
            "overflow": null,
            "overflow_x": null,
            "overflow_y": null,
            "padding": null,
            "right": null,
            "top": null,
            "visibility": null,
            "width": null
          }
        },
        "7114d0bc27bc4ece84e4b0a8bef2364d": {
          "model_module": "@jupyter-widgets/controls",
          "model_name": "ProgressStyleModel",
          "model_module_version": "1.5.0",
          "state": {
            "_model_module": "@jupyter-widgets/controls",
            "_model_module_version": "1.5.0",
            "_model_name": "ProgressStyleModel",
            "_view_count": null,
            "_view_module": "@jupyter-widgets/base",
            "_view_module_version": "1.2.0",
            "_view_name": "StyleView",
            "bar_color": null,
            "description_width": ""
          }
        },
        "5dd749cbe3df4886ad0d9d946e0bc06d": {
          "model_module": "@jupyter-widgets/base",
          "model_name": "LayoutModel",
          "model_module_version": "1.2.0",
          "state": {
            "_model_module": "@jupyter-widgets/base",
            "_model_module_version": "1.2.0",
            "_model_name": "LayoutModel",
            "_view_count": null,
            "_view_module": "@jupyter-widgets/base",
            "_view_module_version": "1.2.0",
            "_view_name": "LayoutView",
            "align_content": null,
            "align_items": null,
            "align_self": null,
            "border": null,
            "bottom": null,
            "display": null,
            "flex": null,
            "flex_flow": null,
            "grid_area": null,
            "grid_auto_columns": null,
            "grid_auto_flow": null,
            "grid_auto_rows": null,
            "grid_column": null,
            "grid_gap": null,
            "grid_row": null,
            "grid_template_areas": null,
            "grid_template_columns": null,
            "grid_template_rows": null,
            "height": null,
            "justify_content": null,
            "justify_items": null,
            "left": null,
            "margin": null,
            "max_height": null,
            "max_width": null,
            "min_height": null,
            "min_width": null,
            "object_fit": null,
            "object_position": null,
            "order": null,
            "overflow": null,
            "overflow_x": null,
            "overflow_y": null,
            "padding": null,
            "right": null,
            "top": null,
            "visibility": null,
            "width": null
          }
        },
        "cb7c2908ddfe4a8a95e974d63aa54606": {
          "model_module": "@jupyter-widgets/controls",
          "model_name": "DescriptionStyleModel",
          "model_module_version": "1.5.0",
          "state": {
            "_model_module": "@jupyter-widgets/controls",
            "_model_module_version": "1.5.0",
            "_model_name": "DescriptionStyleModel",
            "_view_count": null,
            "_view_module": "@jupyter-widgets/base",
            "_view_module_version": "1.2.0",
            "_view_name": "StyleView",
            "description_width": ""
          }
        },
        "900f3bd33d0b47c4a1e62327ae51ba13": {
          "model_module": "@jupyter-widgets/controls",
          "model_name": "HBoxModel",
          "model_module_version": "1.5.0",
          "state": {
            "_dom_classes": [],
            "_model_module": "@jupyter-widgets/controls",
            "_model_module_version": "1.5.0",
            "_model_name": "HBoxModel",
            "_view_count": null,
            "_view_module": "@jupyter-widgets/controls",
            "_view_module_version": "1.5.0",
            "_view_name": "HBoxView",
            "box_style": "",
            "children": [
              "IPY_MODEL_62e92f1892c54e23a98d4da3784821ee",
              "IPY_MODEL_59b2d03073154809abf0d887113a06ea",
              "IPY_MODEL_821fbb36bc0a49648087eace65873b89"
            ],
            "layout": "IPY_MODEL_ee04d34972fb4f6fb50db51ebbb61310"
          }
        },
        "62e92f1892c54e23a98d4da3784821ee": {
          "model_module": "@jupyter-widgets/controls",
          "model_name": "HTMLModel",
          "model_module_version": "1.5.0",
          "state": {
            "_dom_classes": [],
            "_model_module": "@jupyter-widgets/controls",
            "_model_module_version": "1.5.0",
            "_model_name": "HTMLModel",
            "_view_count": null,
            "_view_module": "@jupyter-widgets/controls",
            "_view_module_version": "1.5.0",
            "_view_name": "HTMLView",
            "description": "",
            "description_tooltip": null,
            "layout": "IPY_MODEL_099e6fc1b56f495bbec5d9f441119185",
            "placeholder": "​",
            "style": "IPY_MODEL_76fb9cde78154a8d9cb84139484fb69f",
            "value": "100%"
          }
        },
        "59b2d03073154809abf0d887113a06ea": {
          "model_module": "@jupyter-widgets/controls",
          "model_name": "FloatProgressModel",
          "model_module_version": "1.5.0",
          "state": {
            "_dom_classes": [],
            "_model_module": "@jupyter-widgets/controls",
            "_model_module_version": "1.5.0",
            "_model_name": "FloatProgressModel",
            "_view_count": null,
            "_view_module": "@jupyter-widgets/controls",
            "_view_module_version": "1.5.0",
            "_view_name": "ProgressView",
            "bar_style": "success",
            "description": "",
            "description_tooltip": null,
            "layout": "IPY_MODEL_7560ca672b534a4a8c47522b994942c6",
            "max": 5,
            "min": 0,
            "orientation": "horizontal",
            "style": "IPY_MODEL_c1b06735f8684c9d99ecc6626e140780",
            "value": 5
          }
        },
        "821fbb36bc0a49648087eace65873b89": {
          "model_module": "@jupyter-widgets/controls",
          "model_name": "HTMLModel",
          "model_module_version": "1.5.0",
          "state": {
            "_dom_classes": [],
            "_model_module": "@jupyter-widgets/controls",
            "_model_module_version": "1.5.0",
            "_model_name": "HTMLModel",
            "_view_count": null,
            "_view_module": "@jupyter-widgets/controls",
            "_view_module_version": "1.5.0",
            "_view_name": "HTMLView",
            "description": "",
            "description_tooltip": null,
            "layout": "IPY_MODEL_809d6311909449ccadaf8f208131558e",
            "placeholder": "​",
            "style": "IPY_MODEL_ddea3de9f41c4cf0a69c71e2a506323a",
            "value": " 5/5 [00:00&lt;00:00,  1.09it/s]"
          }
        },
        "ee04d34972fb4f6fb50db51ebbb61310": {
          "model_module": "@jupyter-widgets/base",
          "model_name": "LayoutModel",
          "model_module_version": "1.2.0",
          "state": {
            "_model_module": "@jupyter-widgets/base",
            "_model_module_version": "1.2.0",
            "_model_name": "LayoutModel",
            "_view_count": null,
            "_view_module": "@jupyter-widgets/base",
            "_view_module_version": "1.2.0",
            "_view_name": "LayoutView",
            "align_content": null,
            "align_items": null,
            "align_self": null,
            "border": null,
            "bottom": null,
            "display": null,
            "flex": null,
            "flex_flow": null,
            "grid_area": null,
            "grid_auto_columns": null,
            "grid_auto_flow": null,
            "grid_auto_rows": null,
            "grid_column": null,
            "grid_gap": null,
            "grid_row": null,
            "grid_template_areas": null,
            "grid_template_columns": null,
            "grid_template_rows": null,
            "height": null,
            "justify_content": null,
            "justify_items": null,
            "left": null,
            "margin": null,
            "max_height": null,
            "max_width": null,
            "min_height": null,
            "min_width": null,
            "object_fit": null,
            "object_position": null,
            "order": null,
            "overflow": null,
            "overflow_x": null,
            "overflow_y": null,
            "padding": null,
            "right": null,
            "top": null,
            "visibility": null,
            "width": null
          }
        },
        "099e6fc1b56f495bbec5d9f441119185": {
          "model_module": "@jupyter-widgets/base",
          "model_name": "LayoutModel",
          "model_module_version": "1.2.0",
          "state": {
            "_model_module": "@jupyter-widgets/base",
            "_model_module_version": "1.2.0",
            "_model_name": "LayoutModel",
            "_view_count": null,
            "_view_module": "@jupyter-widgets/base",
            "_view_module_version": "1.2.0",
            "_view_name": "LayoutView",
            "align_content": null,
            "align_items": null,
            "align_self": null,
            "border": null,
            "bottom": null,
            "display": null,
            "flex": null,
            "flex_flow": null,
            "grid_area": null,
            "grid_auto_columns": null,
            "grid_auto_flow": null,
            "grid_auto_rows": null,
            "grid_column": null,
            "grid_gap": null,
            "grid_row": null,
            "grid_template_areas": null,
            "grid_template_columns": null,
            "grid_template_rows": null,
            "height": null,
            "justify_content": null,
            "justify_items": null,
            "left": null,
            "margin": null,
            "max_height": null,
            "max_width": null,
            "min_height": null,
            "min_width": null,
            "object_fit": null,
            "object_position": null,
            "order": null,
            "overflow": null,
            "overflow_x": null,
            "overflow_y": null,
            "padding": null,
            "right": null,
            "top": null,
            "visibility": null,
            "width": null
          }
        },
        "76fb9cde78154a8d9cb84139484fb69f": {
          "model_module": "@jupyter-widgets/controls",
          "model_name": "DescriptionStyleModel",
          "model_module_version": "1.5.0",
          "state": {
            "_model_module": "@jupyter-widgets/controls",
            "_model_module_version": "1.5.0",
            "_model_name": "DescriptionStyleModel",
            "_view_count": null,
            "_view_module": "@jupyter-widgets/base",
            "_view_module_version": "1.2.0",
            "_view_name": "StyleView",
            "description_width": ""
          }
        },
        "7560ca672b534a4a8c47522b994942c6": {
          "model_module": "@jupyter-widgets/base",
          "model_name": "LayoutModel",
          "model_module_version": "1.2.0",
          "state": {
            "_model_module": "@jupyter-widgets/base",
            "_model_module_version": "1.2.0",
            "_model_name": "LayoutModel",
            "_view_count": null,
            "_view_module": "@jupyter-widgets/base",
            "_view_module_version": "1.2.0",
            "_view_name": "LayoutView",
            "align_content": null,
            "align_items": null,
            "align_self": null,
            "border": null,
            "bottom": null,
            "display": null,
            "flex": null,
            "flex_flow": null,
            "grid_area": null,
            "grid_auto_columns": null,
            "grid_auto_flow": null,
            "grid_auto_rows": null,
            "grid_column": null,
            "grid_gap": null,
            "grid_row": null,
            "grid_template_areas": null,
            "grid_template_columns": null,
            "grid_template_rows": null,
            "height": null,
            "justify_content": null,
            "justify_items": null,
            "left": null,
            "margin": null,
            "max_height": null,
            "max_width": null,
            "min_height": null,
            "min_width": null,
            "object_fit": null,
            "object_position": null,
            "order": null,
            "overflow": null,
            "overflow_x": null,
            "overflow_y": null,
            "padding": null,
            "right": null,
            "top": null,
            "visibility": null,
            "width": null
          }
        },
        "c1b06735f8684c9d99ecc6626e140780": {
          "model_module": "@jupyter-widgets/controls",
          "model_name": "ProgressStyleModel",
          "model_module_version": "1.5.0",
          "state": {
            "_model_module": "@jupyter-widgets/controls",
            "_model_module_version": "1.5.0",
            "_model_name": "ProgressStyleModel",
            "_view_count": null,
            "_view_module": "@jupyter-widgets/base",
            "_view_module_version": "1.2.0",
            "_view_name": "StyleView",
            "bar_color": null,
            "description_width": ""
          }
        },
        "809d6311909449ccadaf8f208131558e": {
          "model_module": "@jupyter-widgets/base",
          "model_name": "LayoutModel",
          "model_module_version": "1.2.0",
          "state": {
            "_model_module": "@jupyter-widgets/base",
            "_model_module_version": "1.2.0",
            "_model_name": "LayoutModel",
            "_view_count": null,
            "_view_module": "@jupyter-widgets/base",
            "_view_module_version": "1.2.0",
            "_view_name": "LayoutView",
            "align_content": null,
            "align_items": null,
            "align_self": null,
            "border": null,
            "bottom": null,
            "display": null,
            "flex": null,
            "flex_flow": null,
            "grid_area": null,
            "grid_auto_columns": null,
            "grid_auto_flow": null,
            "grid_auto_rows": null,
            "grid_column": null,
            "grid_gap": null,
            "grid_row": null,
            "grid_template_areas": null,
            "grid_template_columns": null,
            "grid_template_rows": null,
            "height": null,
            "justify_content": null,
            "justify_items": null,
            "left": null,
            "margin": null,
            "max_height": null,
            "max_width": null,
            "min_height": null,
            "min_width": null,
            "object_fit": null,
            "object_position": null,
            "order": null,
            "overflow": null,
            "overflow_x": null,
            "overflow_y": null,
            "padding": null,
            "right": null,
            "top": null,
            "visibility": null,
            "width": null
          }
        },
        "ddea3de9f41c4cf0a69c71e2a506323a": {
          "model_module": "@jupyter-widgets/controls",
          "model_name": "DescriptionStyleModel",
          "model_module_version": "1.5.0",
          "state": {
            "_model_module": "@jupyter-widgets/controls",
            "_model_module_version": "1.5.0",
            "_model_name": "DescriptionStyleModel",
            "_view_count": null,
            "_view_module": "@jupyter-widgets/base",
            "_view_module_version": "1.2.0",
            "_view_name": "StyleView",
            "description_width": ""
          }
        }
      }
    }
  },
  "cells": [
    {
      "cell_type": "code",
      "source": [
        "!pip install scikit-dimension\n",
        "!pip install --upgrade scikit-learn"
      ],
      "metadata": {
        "colab": {
          "base_uri": "https://localhost:8080/"
        },
        "id": "wz5_zK6w6h83",
        "outputId": "edfd58e0-b7a7-4587-e953-506720402108"
      },
      "execution_count": null,
      "outputs": [
        {
          "output_type": "stream",
          "name": "stdout",
          "text": [
            "Looking in indexes: https://pypi.org/simple, https://us-python.pkg.dev/colab-wheels/public/simple/\n",
            "Collecting scikit-dimension\n",
            "  Downloading scikit_dimension-0.3-py3-none-any.whl (63 kB)\n",
            "\u001b[K     |████████████████████████████████| 63 kB 1.3 MB/s \n",
            "\u001b[?25hRequirement already satisfied: scipy in /usr/local/lib/python3.7/dist-packages (from scikit-dimension) (1.7.3)\n",
            "Requirement already satisfied: numpy in /usr/local/lib/python3.7/dist-packages (from scikit-dimension) (1.21.6)\n",
            "Requirement already satisfied: scikit-learn in /usr/local/lib/python3.7/dist-packages (from scikit-dimension) (1.0.2)\n",
            "Requirement already satisfied: threadpoolctl>=2.0.0 in /usr/local/lib/python3.7/dist-packages (from scikit-learn->scikit-dimension) (3.1.0)\n",
            "Requirement already satisfied: joblib>=0.11 in /usr/local/lib/python3.7/dist-packages (from scikit-learn->scikit-dimension) (1.1.0)\n",
            "Installing collected packages: scikit-dimension\n",
            "Successfully installed scikit-dimension-0.3\n",
            "Looking in indexes: https://pypi.org/simple, https://us-python.pkg.dev/colab-wheels/public/simple/\n",
            "Requirement already satisfied: scikit-learn in /usr/local/lib/python3.7/dist-packages (1.0.2)\n",
            "Requirement already satisfied: numpy>=1.14.6 in /usr/local/lib/python3.7/dist-packages (from scikit-learn) (1.21.6)\n",
            "Requirement already satisfied: scipy>=1.1.0 in /usr/local/lib/python3.7/dist-packages (from scikit-learn) (1.7.3)\n",
            "Requirement already satisfied: threadpoolctl>=2.0.0 in /usr/local/lib/python3.7/dist-packages (from scikit-learn) (3.1.0)\n",
            "Requirement already satisfied: joblib>=0.11 in /usr/local/lib/python3.7/dist-packages (from scikit-learn) (1.1.0)\n"
          ]
        }
      ]
    },
    {
      "cell_type": "code",
      "execution_count": null,
      "metadata": {
        "id": "lCLEK86p0HBv"
      },
      "outputs": [],
      "source": [
        "from google.colab import drive"
      ]
    },
    {
      "cell_type": "code",
      "source": [
        "drive.mount('./drive')"
      ],
      "metadata": {
        "colab": {
          "base_uri": "https://localhost:8080/"
        },
        "id": "6qJATDsQ0K8w",
        "outputId": "d24e7b23-d1ba-4b5a-ca20-44fbd9a3f7db"
      },
      "execution_count": null,
      "outputs": [
        {
          "output_type": "stream",
          "name": "stdout",
          "text": [
            "Mounted at ./drive\n"
          ]
        }
      ]
    },
    {
      "cell_type": "code",
      "source": [
        "import numpy as np\n",
        "import matplotlib.pyplot as plt\n",
        "import torch\n",
        "import torch.nn as nn\n",
        "from tqdm.notebook import tqdm"
      ],
      "metadata": {
        "id": "ILhW-lu20Nr_"
      },
      "execution_count": null,
      "outputs": []
    },
    {
      "cell_type": "code",
      "source": [
        "!cp 'drive/MyDrive/optimizer/data/R13.zip' R13.zip"
      ],
      "metadata": {
        "id": "BFT2rZW_0hK8"
      },
      "execution_count": null,
      "outputs": []
    },
    {
      "cell_type": "code",
      "source": [
        "!unzip R13.zip"
      ],
      "metadata": {
        "colab": {
          "base_uri": "https://localhost:8080/"
        },
        "id": "913Ttc7h1AHb",
        "outputId": "c1951b87-5fe3-4ed0-d9a5-8c8a142a0389"
      },
      "execution_count": null,
      "outputs": [
        {
          "output_type": "stream",
          "name": "stdout",
          "text": [
            "Archive:  R13.zip\n",
            "  inflating: R13.txt                 \n"
          ]
        }
      ]
    },
    {
      "cell_type": "code",
      "source": [
        "!head R13.txt"
      ],
      "metadata": {
        "colab": {
          "base_uri": "https://localhost:8080/"
        },
        "id": "k1g1jnmx1CnE",
        "outputId": "5c3c8869-d447-448d-f2b1-d904f3b25e36"
      },
      "execution_count": null,
      "outputs": [
        {
          "output_type": "stream",
          "name": "stdout",
          "text": [
            "4 5001 5 5 1\n",
            "1 1 1 1 1\n",
            "269.973387147057570 60.780472456307066 -109.243577850527500 -126.556416829193350\n",
            "269.078804624365550 62.182936823000148 -118.290425725774640 -114.600930852218450\n",
            "251.868777320864640 70.147627444322907 -107.550707102030370 -123.488361595036040\n",
            "260.340600330471090 65.065638599131546 -103.858355638084010 -118.116241018661740\n",
            "262.435524777393370 65.031025083668268 -112.798688287621490 -115.103921462297860\n",
            "247.698057345374710 71.118724780537661 -99.850671539813362 -109.145354138596530\n",
            "250.051593493667470 70.815188514703550 -104.338626250599060 -129.261707376946700\n",
            "258.523958666769320 65.877826670239813 -102.700682291783380 -117.700272629427300\n"
          ]
        }
      ]
    },
    {
      "cell_type": "code",
      "source": [
        "with open('R13.txt') as fp:\n",
        "  line = fp.readline()\n",
        "  line = line.split(' ')\n",
        "  d, n, m, k, p = [int(item) for item in line]\n",
        "  line = fp.readline()\n",
        "  line = line.split(' ')\n",
        "  K = [int(item) for item in line]\n"
      ],
      "metadata": {
        "id": "uhObtNEL1Fda"
      },
      "execution_count": null,
      "outputs": []
    },
    {
      "cell_type": "code",
      "source": [
        "!tail -n +3 R13.txt > R13_clean.txt"
      ],
      "metadata": {
        "id": "j7DKEAVC2h9f"
      },
      "execution_count": null,
      "outputs": []
    },
    {
      "cell_type": "code",
      "source": [
        "vectors = np.fromfile('R13_clean.txt', sep=' ').reshape(n, -1)"
      ],
      "metadata": {
        "id": "sZXui17O18hQ"
      },
      "execution_count": null,
      "outputs": []
    },
    {
      "cell_type": "code",
      "source": [
        "vectors"
      ],
      "metadata": {
        "colab": {
          "base_uri": "https://localhost:8080/"
        },
        "id": "Oo3uTWYY2-UC",
        "outputId": "ae1692b9-8d27-4d3b-e709-024bce1ad349"
      },
      "execution_count": null,
      "outputs": [
        {
          "output_type": "execute_result",
          "data": {
            "text/plain": [
              "array([[ 269.97338715,   60.78047246, -109.24357785, -126.55641683],\n",
              "       [ 269.07880462,   62.18293682, -118.29042573, -114.60093085],\n",
              "       [ 251.86877732,   70.14762744, -107.5507071 , -123.4883616 ],\n",
              "       ...,\n",
              "       [ 199.23896072,   45.49154067,  -73.35459969,  -69.16413942],\n",
              "       [ 201.66531683,   44.90052092,  -80.07419384,  -58.18780996],\n",
              "       [ 134.76314735,  -24.80784542,  -48.32622887,  -24.81220049]])"
            ]
          },
          "metadata": {},
          "execution_count": 16
        }
      ]
    },
    {
      "cell_type": "code",
      "source": [
        "fig = plt.figure(figsize=(12, 12))\n",
        "ax = fig.add_subplot(projection='3d')\n",
        "\n",
        "\n",
        "ax.scatter(vectors[:, 0], vectors[:, 1], vectors[:, 2])\n",
        "_ = plt.show()"
      ],
      "metadata": {
        "colab": {
          "base_uri": "https://localhost:8080/",
          "height": 683
        },
        "id": "BCO59JzL3sT0",
        "outputId": "8e60c21b-40d4-4eef-9e3f-31150640834f"
      },
      "execution_count": null,
      "outputs": [
        {
          "output_type": "display_data",
          "data": {
            "text/plain": [
              "<Figure size 864x864 with 1 Axes>"
            ],
            "image/png": "[encoded data removed]"
          },
          "metadata": {
            "needs_background": "light"
          }
        }
      ]
    },
    {
      "cell_type": "code",
      "source": [
        "from sklearn.mixture import GaussianMixture, BayesianGaussianMixture\n",
        "\n",
        "gmm = GaussianMixture(n_components=k, covariance_type='diag',\n",
        "                              random_state=0, n_init=32, max_iter=1000)\n",
        "gmm.fit(vectors)"
      ],
      "metadata": {
        "colab": {
          "base_uri": "https://localhost:8080/"
        },
        "id": "jOkBfRhX4JJj",
        "outputId": "efb1aa56-efab-4fc8-ae58-7352dd379636"
      },
      "execution_count": null,
      "outputs": [
        {
          "output_type": "execute_result",
          "data": {
            "text/plain": [
              "GaussianMixture(covariance_type='diag', max_iter=1000, n_components=5,\n",
              "                n_init=32, random_state=0)"
            ]
          },
          "metadata": {},
          "execution_count": 59
        }
      ]
    },
    {
      "cell_type": "code",
      "source": [
        "gmm.means_"
      ],
      "metadata": {
        "colab": {
          "base_uri": "https://localhost:8080/"
        },
        "id": "Jm2PfrGu6Zbt",
        "outputId": "b6bbfce1-7348-4660-8603-7f311084c6f6"
      },
      "execution_count": null,
      "outputs": [
        {
          "output_type": "execute_result",
          "data": {
            "text/plain": [
              "array([[  11.66955145,    6.75698894,   11.14450905,   11.59608029],\n",
              "       [ 196.33923549,   42.62536322,  -72.14792558,  -56.31330819],\n",
              "       [  73.64962551,    5.42912549,    4.2523544 ,  -61.36074799],\n",
              "       [ 259.23052211,   66.07363254, -107.3363683 , -116.75361823],\n",
              "       [ 135.40836753,  -25.59673495,  -56.85852803,  -33.06684681]])"
            ]
          },
          "metadata": {},
          "execution_count": 60
        }
      ]
    },
    {
      "cell_type": "code",
      "source": [
        "def top_k_outliers(vectors, k):\n",
        "  scores = gmm.score_samples(vectors)\n",
        "  top_k = np.argpartition(-scores, -k)[-k:]\n",
        "  return top_k, scores[top_k]"
      ],
      "metadata": {
        "id": "eer-wyoURGzQ"
      },
      "execution_count": null,
      "outputs": []
    },
    {
      "cell_type": "code",
      "source": [
        "outlier_ind, _ = top_k_outliers(vectors, p)"
      ],
      "metadata": {
        "id": "cE5ErN6rRqfJ"
      },
      "execution_count": null,
      "outputs": []
    },
    {
      "cell_type": "code",
      "source": [
        "labels = gmm.predict(vectors)\n",
        "labels[outlier_ind] = -1"
      ],
      "metadata": {
        "id": "d7K5Ci0r7fEf"
      },
      "execution_count": null,
      "outputs": []
    },
    {
      "cell_type": "code",
      "source": [
        "from numba import njit, jit\n",
        "\n",
        "@jit\n",
        "def noisy_center_radius(points, k):\n",
        "  dist_matrix = np.zeros((points.shape[0], points.shape[0]))\n",
        "  for i in range(points.shape[0]):\n",
        "    for j in range(i):\n",
        "      dist = np.linalg.norm(points[i] - points[j])\n",
        "      dist_matrix[i, j] = dist\n",
        "  dist_matrix = dist_matrix.reshape(-1)\n",
        "  top_k_dist = np.argsort(dist_matrix)[-k:]\n",
        "  rows = top_k_dist // points.shape[0]\n",
        "  cols = top_k_dist % points.shape[0]\n",
        "  center = 0.5*(points[cols] + points[rows]).mean(axis=0)\n",
        "  radius = np.ceil(dist_matrix[top_k_dist].mean()/2)\n",
        "  return center, radius\n",
        "\n",
        "def center_radius(points):\n",
        "  dist = torch.cdist(points, points)\n",
        "  ind = dist.argmax()\n",
        "  row = (torch.div(ind, points.size(0), rounding_mode='floor')).item()\n",
        "  col = (ind % points.size(0)).item()\n",
        "  radius = torch.ceil((dist[row, col]/2)).item()\n",
        "  center = 0.5 * (points[row] + points[col])\n",
        "  return center, radius\n",
        "\n",
        "\n",
        "manifold_center = []\n",
        "manifold_radius = []\n",
        "\n",
        "for sphere in range(k):\n",
        "  points = torch.from_numpy(vectors[labels==sphere])\n",
        "  # points = vectors[labels==sphere]\n",
        "  center, radius = center_radius(points)\n",
        "  manifold_center.append(center)\n",
        "  manifold_radius.append(radius)\n",
        "\n",
        "manifold_center = np.vstack(manifold_center)"
      ],
      "metadata": {
        "id": "j_Qx5KAlrevo"
      },
      "execution_count": null,
      "outputs": []
    },
    {
      "cell_type": "code",
      "source": [
        "manifold_radius"
      ],
      "metadata": {
        "colab": {
          "base_uri": "https://localhost:8080/"
        },
        "id": "_rv50zJlOLdn",
        "outputId": "e0ddca84-dd9f-406f-e4c0-6a779c474819"
      },
      "execution_count": null,
      "outputs": [
        {
          "output_type": "execute_result",
          "data": {
            "text/plain": [
              "[16.0, 16.0, 16.0, 16.0, 16.0]"
            ]
          },
          "metadata": {},
          "execution_count": 78
        }
      ]
    },
    {
      "cell_type": "code",
      "source": [
        "manifold_center"
      ],
      "metadata": {
        "colab": {
          "base_uri": "https://localhost:8080/"
        },
        "id": "MLWmGmsKNevt",
        "outputId": "c7f631ae-d4f3-4be9-ff27-c364cdc3d654"
      },
      "execution_count": null,
      "outputs": [
        {
          "output_type": "execute_result",
          "data": {
            "text/plain": [
              "array([[  11.90494827,    6.17724448,   10.43188762,   11.90929491],\n",
              "       [ 196.99091314,   42.71360611,  -71.92150871,  -56.80364712],\n",
              "       [  73.5843565 ,    5.00963626,    4.93969297,  -61.43246299],\n",
              "       [ 258.72480679,   66.31108571, -107.06585946, -116.89128032],\n",
              "       [ 135.2979448 ,  -25.05564655,  -55.88328262,  -33.1112449 ]])"
            ]
          },
          "metadata": {},
          "execution_count": 79
        }
      ]
    },
    {
      "cell_type": "code",
      "source": [
        "fig = plt.figure(figsize=(12, 12))\n",
        "ax = fig.add_subplot(projection='3d')\n",
        "\n",
        "# t_colors = (S.flatten().abs() < 0.1).numpy() * 1\n",
        "# ax.scatter(vectors[:, 0], vectors[:, 1], vectors[:, 2], c=t_colors)\n",
        "ax.scatter(vectors[:, 0], vectors[:, 3], vectors[:, 2], c=labels, alpha=0.01)\n",
        "for sphere in range(k):\n",
        "  ax.scatter(manifold_center[sphere, 0], manifold_center[sphere, 3], manifold_center[sphere, 2], c='red')\n",
        "\n",
        "_ = plt.show()"
      ],
      "metadata": {
        "colab": {
          "base_uri": "https://localhost:8080/",
          "height": 683
        },
        "id": "MYyx91Ia7i27",
        "outputId": "a76ba012-5cd7-4fd0-f6b0-cd00bdffa203"
      },
      "execution_count": null,
      "outputs": [
        {
          "output_type": "display_data",
          "data": {
            "text/plain": [
              "<Figure size 864x864 with 1 Axes>"
            ],
            "image/png": "[encoded data removed]"
          },
          "metadata": {
            "needs_background": "light"
          }
        }
      ]
    },
    {
      "cell_type": "code",
      "source": [
        "import skdim.id as intd\n",
        "\n",
        "manifold_dims = []\n",
        "\n",
        "for shpere in tqdm(range(k)):\n",
        "  lpca = intd.lPCA().fit_pw(vectors[labels==sphere], n_neighbors = 64, n_jobs = 1)\n",
        "  manifold_dims.append(int(np.round(lpca.dimension_pw_.mean())))\n",
        "  "
      ],
      "metadata": {
        "colab": {
          "base_uri": "https://localhost:8080/",
          "height": 49,
          "referenced_widgets": [
            "1ecd0fdd215c4fe1aa559f1035ce71f0",
            "bf4fe93076ef4624b7d55e0640bbfef6",
            "70a487ab95e44e3e895fdd0a3df50c46",
            "74c4b5fba5cd40bba0ea53d86fa69aba",
            "08e6f77ea2bc44f9ba3251241d1d13ef",
            "a79bd95c595042debda288c18222821c",
            "f1cff36f9902440bb318bf47d3d717ee",
            "54059b51ed12449783ba81d45007be49",
            "7114d0bc27bc4ece84e4b0a8bef2364d",
            "5dd749cbe3df4886ad0d9d946e0bc06d",
            "cb7c2908ddfe4a8a95e974d63aa54606"
          ]
        },
        "id": "4VYKfEjVOhi2",
        "outputId": "55422807-5c2c-4012-e28f-63d95c672129"
      },
      "execution_count": null,
      "outputs": [
        {
          "output_type": "display_data",
          "data": {
            "text/plain": [
              "  0%|          | 0/5 [00:00<?, ?it/s]"
            ],
            "application/vnd.jupyter.widget-view+json": {
              "version_major": 2,
              "version_minor": 0,
              "model_id": "1ecd0fdd215c4fe1aa559f1035ce71f0"
            }
          },
          "metadata": {}
        }
      ]
    },
    {
      "cell_type": "code",
      "source": [
        "manifold_dims"
      ],
      "metadata": {
        "colab": {
          "base_uri": "https://localhost:8080/"
        },
        "id": "9JQ9R1LbPB_0",
        "outputId": "111235da-7f49-4373-8d25-9c1122f2e32d"
      },
      "execution_count": null,
      "outputs": [
        {
          "output_type": "execute_result",
          "data": {
            "text/plain": [
              "[3, 3, 3, 3, 3]"
            ]
          },
          "metadata": {},
          "execution_count": 82
        }
      ]
    },
    {
      "cell_type": "code",
      "source": [
        "from numba import njit\n",
        "\n",
        "@njit\n",
        "def get_best_fitting_plane_vector(centered):\n",
        "\n",
        "    # Calculate the covariance matrix of the coordinates\n",
        "    covariance_matrix = np.cov(centered, rowvar=False) # Variables = columns\n",
        "\n",
        "    # Calculate the eigenvalues & eigenvectors of the covariance matrix\n",
        "    e_val, e_vect = np.linalg.eig(covariance_matrix)\n",
        "\n",
        "    # The normal vector to the plane is the eigenvector associated to the minimum eigenvalue\n",
        "    min_eval = np.argmin(e_val)\n",
        "    normal_vector = e_vect[:, min_eval]\n",
        "\n",
        "    return normal_vector"
      ],
      "metadata": {
        "id": "E4IYm6dNqhm-"
      },
      "execution_count": null,
      "outputs": []
    },
    {
      "cell_type": "code",
      "source": [
        "affine_a = []\n",
        "affine_b = []\n",
        "\n",
        "for sphere in tqdm(range(k)):\n",
        "  points = vectors[labels==sphere]\n",
        "  shift = points.mean(axis=0)\n",
        "  centered = points - shift\n",
        "  a = get_best_fitting_plane_vector(centered)\n",
        "  b = a @ shift\n",
        "  affine_a.append(a)\n",
        "  affine_b.append(b)\n"
      ],
      "metadata": {
        "colab": {
          "base_uri": "https://localhost:8080/",
          "height": 49,
          "referenced_widgets": [
            "900f3bd33d0b47c4a1e62327ae51ba13",
            "62e92f1892c54e23a98d4da3784821ee",
            "59b2d03073154809abf0d887113a06ea",
            "821fbb36bc0a49648087eace65873b89",
            "ee04d34972fb4f6fb50db51ebbb61310",
            "099e6fc1b56f495bbec5d9f441119185",
            "76fb9cde78154a8d9cb84139484fb69f",
            "7560ca672b534a4a8c47522b994942c6",
            "c1b06735f8684c9d99ecc6626e140780",
            "809d6311909449ccadaf8f208131558e",
            "ddea3de9f41c4cf0a69c71e2a506323a"
          ]
        },
        "id": "9G9ykUi9DcsW",
        "outputId": "e16471dc-0f1d-4673-b824-7e164c52ab4c"
      },
      "execution_count": null,
      "outputs": [
        {
          "output_type": "display_data",
          "data": {
            "text/plain": [
              "  0%|          | 0/5 [00:00<?, ?it/s]"
            ],
            "application/vnd.jupyter.widget-view+json": {
              "version_major": 2,
              "version_minor": 0,
              "model_id": "900f3bd33d0b47c4a1e62327ae51ba13"
            }
          },
          "metadata": {}
        }
      ]
    },
    {
      "cell_type": "code",
      "source": [
        "affine_a"
      ],
      "metadata": {
        "colab": {
          "base_uri": "https://localhost:8080/"
        },
        "id": "X2j5-U-AHp7n",
        "outputId": "6415d80e-69d6-47eb-9095-1e363e7b6dd2"
      },
      "execution_count": null,
      "outputs": [
        {
          "output_type": "execute_result",
          "data": {
            "text/plain": [
              "[array([-0.59343816, -0.5850092 ,  0.39159113,  0.39019454]),\n",
              " array([ 0.05956588, -0.96215908, -0.19286432, -0.18304416]),\n",
              " array([ 0.34988921, -0.00185061, -0.06540776, -0.93450304]),\n",
              " array([0.46700006, 0.87703194, 0.11159501, 0.01650683]),\n",
              " array([-9.77284346e-01, -2.04150470e-01,  2.32544129e-05, -5.69024777e-02])]"
            ]
          },
          "metadata": {},
          "execution_count": 85
        }
      ]
    },
    {
      "cell_type": "code",
      "source": [
        "affine_b"
      ],
      "metadata": {
        "colab": {
          "base_uri": "https://localhost:8080/"
        },
        "id": "MsmqfHWDqsFn",
        "outputId": "c347ccf2-cdf8-4375-9c60-882f3ca497e5"
      },
      "execution_count": null,
      "outputs": [
        {
          "output_type": "execute_result",
          "data": {
            "text/plain": [
              "[-1.946618913021454,\n",
              " -5.094677945725145,\n",
              " 82.82283112339093,\n",
              " 165.103920545361,\n",
              " -125.22662914676462]"
            ]
          },
          "metadata": {},
          "execution_count": 86
        }
      ]
    },
    {
      "cell_type": "code",
      "source": [
        "with open('output_gmm_n.txt', 'w+') as fp:\n",
        "  fp.write(f'{n} {k}\\n')\n",
        "  for sphere in range(k):\n",
        "    fp.write(f'{manifold_dims[sphere]} {K[sphere]} Sphere\\n')\n",
        "    fp.write(' '.join(affine_a[0].astype(str).tolist()) + '\\n')\n",
        "    fp.write(f'{affine_b[0]}\\n')\n",
        "    vec_ind = np.where(labels == sphere)[0]\n",
        "    fp.write(' '.join(manifold_center[0, :].astype(str).tolist()) + f' {manifold_radius[sphere]} \\n')\n",
        "    fp.write(f'{len(vec_ind)} ')\n",
        "    fp.write(' '.join((vec_ind+1).astype(str).tolist()))\n",
        "    fp.write('\\n')\n",
        "  fp.write(f'{p}')\n",
        "  fp.write(' ' + ' '.join((outlier_ind+1).astype(str).tolist()))"
      ],
      "metadata": {
        "id": "ehRtrBzz8s3r"
      },
      "execution_count": null,
      "outputs": []
    }
  ]
}