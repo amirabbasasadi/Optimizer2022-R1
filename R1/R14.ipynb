{
  "nbformat": 4,
  "nbformat_minor": 0,
  "metadata": {
    "colab": {
      "name": "R14.ipynb",
      "provenance": [],
      "collapsed_sections": []
    },
    "kernelspec": {
      "name": "python3",
      "display_name": "Python 3"
    },
    "language_info": {
      "name": "python"
    },
    "widgets": {
      "application/vnd.jupyter.widget-state+json": {
        "743c5917a970455d8af5f4edb41fb08b": {
          "model_module": "@jupyter-widgets/controls",
          "model_name": "HBoxModel",
          "model_module_version": "1.5.0",
          "state": {
            "_dom_classes": [],
            "_model_module": "@jupyter-widgets/controls",
            "_model_module_version": "1.5.0",
            "_model_name": "HBoxModel",
            "_view_count": null,
            "_view_module": "@jupyter-widgets/controls",
            "_view_module_version": "1.5.0",
            "_view_name": "HBoxView",
            "box_style": "",
            "children": [
              "IPY_MODEL_db303956213149af95c02e1c8f5cbfa6",
              "IPY_MODEL_79853bc8acb84efa9f6d6d2ecadde203",
              "IPY_MODEL_8ea565c38b514164ba87f3ebebfbf3db"
            ],
            "layout": "IPY_MODEL_bc21451be2b54d16a6d72df7896972af"
          }
        },
        "db303956213149af95c02e1c8f5cbfa6": {
          "model_module": "@jupyter-widgets/controls",
          "model_name": "HTMLModel",
          "model_module_version": "1.5.0",
          "state": {
            "_dom_classes": [],
            "_model_module": "@jupyter-widgets/controls",
            "_model_module_version": "1.5.0",
            "_model_name": "HTMLModel",
            "_view_count": null,
            "_view_module": "@jupyter-widgets/controls",
            "_view_module_version": "1.5.0",
            "_view_name": "HTMLView",
            "description": "",
            "description_tooltip": null,
            "layout": "IPY_MODEL_5106907074414943a83501416a500cd0",
            "placeholder": "​",
            "style": "IPY_MODEL_bcfe0165f04d43fab996a8189330a2aa",
            "value": "100%"
          }
        },
        "79853bc8acb84efa9f6d6d2ecadde203": {
          "model_module": "@jupyter-widgets/controls",
          "model_name": "FloatProgressModel",
          "model_module_version": "1.5.0",
          "state": {
            "_dom_classes": [],
            "_model_module": "@jupyter-widgets/controls",
            "_model_module_version": "1.5.0",
            "_model_name": "FloatProgressModel",
            "_view_count": null,
            "_view_module": "@jupyter-widgets/controls",
            "_view_module_version": "1.5.0",
            "_view_name": "ProgressView",
            "bar_style": "success",
            "description": "",
            "description_tooltip": null,
            "layout": "IPY_MODEL_6ffca1f5561a45c390e7b3a915046a21",
            "max": 5,
            "min": 0,
            "orientation": "horizontal",
            "style": "IPY_MODEL_288ce167396a46d6aa4116c90dc126de",
            "value": 5
          }
        },
        "8ea565c38b514164ba87f3ebebfbf3db": {
          "model_module": "@jupyter-widgets/controls",
          "model_name": "HTMLModel",
          "model_module_version": "1.5.0",
          "state": {
            "_dom_classes": [],
            "_model_module": "@jupyter-widgets/controls",
            "_model_module_version": "1.5.0",
            "_model_name": "HTMLModel",
            "_view_count": null,
            "_view_module": "@jupyter-widgets/controls",
            "_view_module_version": "1.5.0",
            "_view_name": "HTMLView",
            "description": "",
            "description_tooltip": null,
            "layout": "IPY_MODEL_8aee3b64bfe14a67be220c7dec8a868a",
            "placeholder": "​",
            "style": "IPY_MODEL_aef9454e72d34b11a6e831ea58eac9ad",
            "value": " 5/5 [03:26&lt;00:00, 40.60s/it]"
          }
        },
        "bc21451be2b54d16a6d72df7896972af": {
          "model_module": "@jupyter-widgets/base",
          "model_name": "LayoutModel",
          "model_module_version": "1.2.0",
          "state": {
            "_model_module": "@jupyter-widgets/base",
            "_model_module_version": "1.2.0",
            "_model_name": "LayoutModel",
            "_view_count": null,
            "_view_module": "@jupyter-widgets/base",
            "_view_module_version": "1.2.0",
            "_view_name": "LayoutView",
            "align_content": null,
            "align_items": null,
            "align_self": null,
            "border": null,
            "bottom": null,
            "display": null,
            "flex": null,
            "flex_flow": null,
            "grid_area": null,
            "grid_auto_columns": null,
            "grid_auto_flow": null,
            "grid_auto_rows": null,
            "grid_column": null,
            "grid_gap": null,
            "grid_row": null,
            "grid_template_areas": null,
            "grid_template_columns": null,
            "grid_template_rows": null,
            "height": null,
            "justify_content": null,
            "justify_items": null,
            "left": null,
            "margin": null,
            "max_height": null,
            "max_width": null,
            "min_height": null,
            "min_width": null,
            "object_fit": null,
            "object_position": null,
            "order": null,
            "overflow": null,
            "overflow_x": null,
            "overflow_y": null,
            "padding": null,
            "right": null,
            "top": null,
            "visibility": null,
            "width": null
          }
        },
        "5106907074414943a83501416a500cd0": {
          "model_module": "@jupyter-widgets/base",
          "model_name": "LayoutModel",
          "model_module_version": "1.2.0",
          "state": {
            "_model_module": "@jupyter-widgets/base",
            "_model_module_version": "1.2.0",
            "_model_name": "LayoutModel",
            "_view_count": null,
            "_view_module": "@jupyter-widgets/base",
            "_view_module_version": "1.2.0",
            "_view_name": "LayoutView",
            "align_content": null,
            "align_items": null,
            "align_self": null,
            "border": null,
            "bottom": null,
            "display": null,
            "flex": null,
            "flex_flow": null,
            "grid_area": null,
            "grid_auto_columns": null,
            "grid_auto_flow": null,
            "grid_auto_rows": null,
            "grid_column": null,
            "grid_gap": null,
            "grid_row": null,
            "grid_template_areas": null,
            "grid_template_columns": null,
            "grid_template_rows": null,
            "height": null,
            "justify_content": null,
            "justify_items": null,
            "left": null,
            "margin": null,
            "max_height": null,
            "max_width": null,
            "min_height": null,
            "min_width": null,
            "object_fit": null,
            "object_position": null,
            "order": null,
            "overflow": null,
            "overflow_x": null,
            "overflow_y": null,
            "padding": null,
            "right": null,
            "top": null,
            "visibility": null,
            "width": null
          }
        },
        "bcfe0165f04d43fab996a8189330a2aa": {
          "model_module": "@jupyter-widgets/controls",
          "model_name": "DescriptionStyleModel",
          "model_module_version": "1.5.0",
          "state": {
            "_model_module": "@jupyter-widgets/controls",
            "_model_module_version": "1.5.0",
            "_model_name": "DescriptionStyleModel",
            "_view_count": null,
            "_view_module": "@jupyter-widgets/base",
            "_view_module_version": "1.2.0",
            "_view_name": "StyleView",
            "description_width": ""
          }
        },
        "6ffca1f5561a45c390e7b3a915046a21": {
          "model_module": "@jupyter-widgets/base",
          "model_name": "LayoutModel",
          "model_module_version": "1.2.0",
          "state": {
            "_model_module": "@jupyter-widgets/base",
            "_model_module_version": "1.2.0",
            "_model_name": "LayoutModel",
            "_view_count": null,
            "_view_module": "@jupyter-widgets/base",
            "_view_module_version": "1.2.0",
            "_view_name": "LayoutView",
            "align_content": null,
            "align_items": null,
            "align_self": null,
            "border": null,
            "bottom": null,
            "display": null,
            "flex": null,
            "flex_flow": null,
            "grid_area": null,
            "grid_auto_columns": null,
            "grid_auto_flow": null,
            "grid_auto_rows": null,
            "grid_column": null,
            "grid_gap": null,
            "grid_row": null,
            "grid_template_areas": null,
            "grid_template_columns": null,
            "grid_template_rows": null,
            "height": null,
            "justify_content": null,
            "justify_items": null,
            "left": null,
            "margin": null,
            "max_height": null,
            "max_width": null,
            "min_height": null,
            "min_width": null,
            "object_fit": null,
            "object_position": null,
            "order": null,
            "overflow": null,
            "overflow_x": null,
            "overflow_y": null,
            "padding": null,
            "right": null,
            "top": null,
            "visibility": null,
            "width": null
          }
        },
        "288ce167396a46d6aa4116c90dc126de": {
          "model_module": "@jupyter-widgets/controls",
          "model_name": "ProgressStyleModel",
          "model_module_version": "1.5.0",
          "state": {
            "_model_module": "@jupyter-widgets/controls",
            "_model_module_version": "1.5.0",
            "_model_name": "ProgressStyleModel",
            "_view_count": null,
            "_view_module": "@jupyter-widgets/base",
            "_view_module_version": "1.2.0",
            "_view_name": "StyleView",
            "bar_color": null,
            "description_width": ""
          }
        },
        "8aee3b64bfe14a67be220c7dec8a868a": {
          "model_module": "@jupyter-widgets/base",
          "model_name": "LayoutModel",
          "model_module_version": "1.2.0",
          "state": {
            "_model_module": "@jupyter-widgets/base",
            "_model_module_version": "1.2.0",
            "_model_name": "LayoutModel",
            "_view_count": null,
            "_view_module": "@jupyter-widgets/base",
            "_view_module_version": "1.2.0",
            "_view_name": "LayoutView",
            "align_content": null,
            "align_items": null,
            "align_self": null,
            "border": null,
            "bottom": null,
            "display": null,
            "flex": null,
            "flex_flow": null,
            "grid_area": null,
            "grid_auto_columns": null,
            "grid_auto_flow": null,
            "grid_auto_rows": null,
            "grid_column": null,
            "grid_gap": null,
            "grid_row": null,
            "grid_template_areas": null,
            "grid_template_columns": null,
            "grid_template_rows": null,
            "height": null,
            "justify_content": null,
            "justify_items": null,
            "left": null,
            "margin": null,
            "max_height": null,
            "max_width": null,
            "min_height": null,
            "min_width": null,
            "object_fit": null,
            "object_position": null,
            "order": null,
            "overflow": null,
            "overflow_x": null,
            "overflow_y": null,
            "padding": null,
            "right": null,
            "top": null,
            "visibility": null,
            "width": null
          }
        },
        "aef9454e72d34b11a6e831ea58eac9ad": {
          "model_module": "@jupyter-widgets/controls",
          "model_name": "DescriptionStyleModel",
          "model_module_version": "1.5.0",
          "state": {
            "_model_module": "@jupyter-widgets/controls",
            "_model_module_version": "1.5.0",
            "_model_name": "DescriptionStyleModel",
            "_view_count": null,
            "_view_module": "@jupyter-widgets/base",
            "_view_module_version": "1.2.0",
            "_view_name": "StyleView",
            "description_width": ""
          }
        },
        "ffde2b63524d4876b3d602473e98b657": {
          "model_module": "@jupyter-widgets/controls",
          "model_name": "HBoxModel",
          "model_module_version": "1.5.0",
          "state": {
            "_dom_classes": [],
            "_model_module": "@jupyter-widgets/controls",
            "_model_module_version": "1.5.0",
            "_model_name": "HBoxModel",
            "_view_count": null,
            "_view_module": "@jupyter-widgets/controls",
            "_view_module_version": "1.5.0",
            "_view_name": "HBoxView",
            "box_style": "",
            "children": [
              "IPY_MODEL_aac23942c8434be292dcc76aec9850dd",
              "IPY_MODEL_f9f177dca4db4f0688f3dc7f48a96c32",
              "IPY_MODEL_2988bc57159440128c798c404e6000d0"
            ],
            "layout": "IPY_MODEL_efbb81263c464c67972d342c5b85b70d"
          }
        },
        "aac23942c8434be292dcc76aec9850dd": {
          "model_module": "@jupyter-widgets/controls",
          "model_name": "HTMLModel",
          "model_module_version": "1.5.0",
          "state": {
            "_dom_classes": [],
            "_model_module": "@jupyter-widgets/controls",
            "_model_module_version": "1.5.0",
            "_model_name": "HTMLModel",
            "_view_count": null,
            "_view_module": "@jupyter-widgets/controls",
            "_view_module_version": "1.5.0",
            "_view_name": "HTMLView",
            "description": "",
            "description_tooltip": null,
            "layout": "IPY_MODEL_c1ef72a44f614fad87e5ba7ad2bf7f0e",
            "placeholder": "​",
            "style": "IPY_MODEL_123889136b774fab80ecc548a6be93dc",
            "value": "100%"
          }
        },
        "f9f177dca4db4f0688f3dc7f48a96c32": {
          "model_module": "@jupyter-widgets/controls",
          "model_name": "FloatProgressModel",
          "model_module_version": "1.5.0",
          "state": {
            "_dom_classes": [],
            "_model_module": "@jupyter-widgets/controls",
            "_model_module_version": "1.5.0",
            "_model_name": "FloatProgressModel",
            "_view_count": null,
            "_view_module": "@jupyter-widgets/controls",
            "_view_module_version": "1.5.0",
            "_view_name": "ProgressView",
            "bar_style": "success",
            "description": "",
            "description_tooltip": null,
            "layout": "IPY_MODEL_050e617947eb4c899105895674eb7fa0",
            "max": 5,
            "min": 0,
            "orientation": "horizontal",
            "style": "IPY_MODEL_9491b16f37f24d9f91425a9c170f8ec7",
            "value": 5
          }
        },
        "2988bc57159440128c798c404e6000d0": {
          "model_module": "@jupyter-widgets/controls",
          "model_name": "HTMLModel",
          "model_module_version": "1.5.0",
          "state": {
            "_dom_classes": [],
            "_model_module": "@jupyter-widgets/controls",
            "_model_module_version": "1.5.0",
            "_model_name": "HTMLModel",
            "_view_count": null,
            "_view_module": "@jupyter-widgets/controls",
            "_view_module_version": "1.5.0",
            "_view_name": "HTMLView",
            "description": "",
            "description_tooltip": null,
            "layout": "IPY_MODEL_726453f194134dc6b9778c95d65e0522",
            "placeholder": "​",
            "style": "IPY_MODEL_fe5abf4cff354d45b98bbf5d11d3c4ef",
            "value": " 5/5 [00:47&lt;00:00,  9.41s/it]"
          }
        },
        "efbb81263c464c67972d342c5b85b70d": {
          "model_module": "@jupyter-widgets/base",
          "model_name": "LayoutModel",
          "model_module_version": "1.2.0",
          "state": {
            "_model_module": "@jupyter-widgets/base",
            "_model_module_version": "1.2.0",
            "_model_name": "LayoutModel",
            "_view_count": null,
            "_view_module": "@jupyter-widgets/base",
            "_view_module_version": "1.2.0",
            "_view_name": "LayoutView",
            "align_content": null,
            "align_items": null,
            "align_self": null,
            "border": null,
            "bottom": null,
            "display": null,
            "flex": null,
            "flex_flow": null,
            "grid_area": null,
            "grid_auto_columns": null,
            "grid_auto_flow": null,
            "grid_auto_rows": null,
            "grid_column": null,
            "grid_gap": null,
            "grid_row": null,
            "grid_template_areas": null,
            "grid_template_columns": null,
            "grid_template_rows": null,
            "height": null,
            "justify_content": null,
            "justify_items": null,
            "left": null,
            "margin": null,
            "max_height": null,
            "max_width": null,
            "min_height": null,
            "min_width": null,
            "object_fit": null,
            "object_position": null,
            "order": null,
            "overflow": null,
            "overflow_x": null,
            "overflow_y": null,
            "padding": null,
            "right": null,
            "top": null,
            "visibility": null,
            "width": null
          }
        },
        "c1ef72a44f614fad87e5ba7ad2bf7f0e": {
          "model_module": "@jupyter-widgets/base",
          "model_name": "LayoutModel",
          "model_module_version": "1.2.0",
          "state": {
            "_model_module": "@jupyter-widgets/base",
            "_model_module_version": "1.2.0",
            "_model_name": "LayoutModel",
            "_view_count": null,
            "_view_module": "@jupyter-widgets/base",
            "_view_module_version": "1.2.0",
            "_view_name": "LayoutView",
            "align_content": null,
            "align_items": null,
            "align_self": null,
            "border": null,
            "bottom": null,
            "display": null,
            "flex": null,
            "flex_flow": null,
            "grid_area": null,
            "grid_auto_columns": null,
            "grid_auto_flow": null,
            "grid_auto_rows": null,
            "grid_column": null,
            "grid_gap": null,
            "grid_row": null,
            "grid_template_areas": null,
            "grid_template_columns": null,
            "grid_template_rows": null,
            "height": null,
            "justify_content": null,
            "justify_items": null,
            "left": null,
            "margin": null,
            "max_height": null,
            "max_width": null,
            "min_height": null,
            "min_width": null,
            "object_fit": null,
            "object_position": null,
            "order": null,
            "overflow": null,
            "overflow_x": null,
            "overflow_y": null,
            "padding": null,
            "right": null,
            "top": null,
            "visibility": null,
            "width": null
          }
        },
        "123889136b774fab80ecc548a6be93dc": {
          "model_module": "@jupyter-widgets/controls",
          "model_name": "DescriptionStyleModel",
          "model_module_version": "1.5.0",
          "state": {
            "_model_module": "@jupyter-widgets/controls",
            "_model_module_version": "1.5.0",
            "_model_name": "DescriptionStyleModel",
            "_view_count": null,
            "_view_module": "@jupyter-widgets/base",
            "_view_module_version": "1.2.0",
            "_view_name": "StyleView",
            "description_width": ""
          }
        },
        "050e617947eb4c899105895674eb7fa0": {
          "model_module": "@jupyter-widgets/base",
          "model_name": "LayoutModel",
          "model_module_version": "1.2.0",
          "state": {
            "_model_module": "@jupyter-widgets/base",
            "_model_module_version": "1.2.0",
            "_model_name": "LayoutModel",
            "_view_count": null,
            "_view_module": "@jupyter-widgets/base",
            "_view_module_version": "1.2.0",
            "_view_name": "LayoutView",
            "align_content": null,
            "align_items": null,
            "align_self": null,
            "border": null,
            "bottom": null,
            "display": null,
            "flex": null,
            "flex_flow": null,
            "grid_area": null,
            "grid_auto_columns": null,
            "grid_auto_flow": null,
            "grid_auto_rows": null,
            "grid_column": null,
            "grid_gap": null,
            "grid_row": null,
            "grid_template_areas": null,
            "grid_template_columns": null,
            "grid_template_rows": null,
            "height": null,
            "justify_content": null,
            "justify_items": null,
            "left": null,
            "margin": null,
            "max_height": null,
            "max_width": null,
            "min_height": null,
            "min_width": null,
            "object_fit": null,
            "object_position": null,
            "order": null,
            "overflow": null,
            "overflow_x": null,
            "overflow_y": null,
            "padding": null,
            "right": null,
            "top": null,
            "visibility": null,
            "width": null
          }
        },
        "9491b16f37f24d9f91425a9c170f8ec7": {
          "model_module": "@jupyter-widgets/controls",
          "model_name": "ProgressStyleModel",
          "model_module_version": "1.5.0",
          "state": {
            "_model_module": "@jupyter-widgets/controls",
            "_model_module_version": "1.5.0",
            "_model_name": "ProgressStyleModel",
            "_view_count": null,
            "_view_module": "@jupyter-widgets/base",
            "_view_module_version": "1.2.0",
            "_view_name": "StyleView",
            "bar_color": null,
            "description_width": ""
          }
        },
        "726453f194134dc6b9778c95d65e0522": {
          "model_module": "@jupyter-widgets/base",
          "model_name": "LayoutModel",
          "model_module_version": "1.2.0",
          "state": {
            "_model_module": "@jupyter-widgets/base",
            "_model_module_version": "1.2.0",
            "_model_name": "LayoutModel",
            "_view_count": null,
            "_view_module": "@jupyter-widgets/base",
            "_view_module_version": "1.2.0",
            "_view_name": "LayoutView",
            "align_content": null,
            "align_items": null,
            "align_self": null,
            "border": null,
            "bottom": null,
            "display": null,
            "flex": null,
            "flex_flow": null,
            "grid_area": null,
            "grid_auto_columns": null,
            "grid_auto_flow": null,
            "grid_auto_rows": null,
            "grid_column": null,
            "grid_gap": null,
            "grid_row": null,
            "grid_template_areas": null,
            "grid_template_columns": null,
            "grid_template_rows": null,
            "height": null,
            "justify_content": null,
            "justify_items": null,
            "left": null,
            "margin": null,
            "max_height": null,
            "max_width": null,
            "min_height": null,
            "min_width": null,
            "object_fit": null,
            "object_position": null,
            "order": null,
            "overflow": null,
            "overflow_x": null,
            "overflow_y": null,
            "padding": null,
            "right": null,
            "top": null,
            "visibility": null,
            "width": null
          }
        },
        "fe5abf4cff354d45b98bbf5d11d3c4ef": {
          "model_module": "@jupyter-widgets/controls",
          "model_name": "DescriptionStyleModel",
          "model_module_version": "1.5.0",
          "state": {
            "_model_module": "@jupyter-widgets/controls",
            "_model_module_version": "1.5.0",
            "_model_name": "DescriptionStyleModel",
            "_view_count": null,
            "_view_module": "@jupyter-widgets/base",
            "_view_module_version": "1.2.0",
            "_view_name": "StyleView",
            "description_width": ""
          }
        },
        "0bff9d23e0c347968bb6e486578d093c": {
          "model_module": "@jupyter-widgets/controls",
          "model_name": "HBoxModel",
          "model_module_version": "1.5.0",
          "state": {
            "_dom_classes": [],
            "_model_module": "@jupyter-widgets/controls",
            "_model_module_version": "1.5.0",
            "_model_name": "HBoxModel",
            "_view_count": null,
            "_view_module": "@jupyter-widgets/controls",
            "_view_module_version": "1.5.0",
            "_view_name": "HBoxView",
            "box_style": "",
            "children": [
              "IPY_MODEL_01b0480bbcbe4f6b853c1ba1cd9bd4e1",
              "IPY_MODEL_b1806eead04544e89a53e7ee2a54edbb",
              "IPY_MODEL_43b37e5a4544452988c291ab6f931f82"
            ],
            "layout": "IPY_MODEL_4142bc8a4a2a45d9bf9dc8ebf1b07189"
          }
        },
        "01b0480bbcbe4f6b853c1ba1cd9bd4e1": {
          "model_module": "@jupyter-widgets/controls",
          "model_name": "HTMLModel",
          "model_module_version": "1.5.0",
          "state": {
            "_dom_classes": [],
            "_model_module": "@jupyter-widgets/controls",
            "_model_module_version": "1.5.0",
            "_model_name": "HTMLModel",
            "_view_count": null,
            "_view_module": "@jupyter-widgets/controls",
            "_view_module_version": "1.5.0",
            "_view_name": "HTMLView",
            "description": "",
            "description_tooltip": null,
            "layout": "IPY_MODEL_2d0722bb4d92456fb77a2d5ccc39529e",
            "placeholder": "​",
            "style": "IPY_MODEL_8a43529eae764ba191a4a9610c9b28bf",
            "value": "100%"
          }
        },
        "b1806eead04544e89a53e7ee2a54edbb": {
          "model_module": "@jupyter-widgets/controls",
          "model_name": "FloatProgressModel",
          "model_module_version": "1.5.0",
          "state": {
            "_dom_classes": [],
            "_model_module": "@jupyter-widgets/controls",
            "_model_module_version": "1.5.0",
            "_model_name": "FloatProgressModel",
            "_view_count": null,
            "_view_module": "@jupyter-widgets/controls",
            "_view_module_version": "1.5.0",
            "_view_name": "ProgressView",
            "bar_style": "success",
            "description": "",
            "description_tooltip": null,
            "layout": "IPY_MODEL_7236fdd199b7434d9ba31b856cf4b386",
            "max": 5,
            "min": 0,
            "orientation": "horizontal",
            "style": "IPY_MODEL_2eb94315dac44128997ac20a491141e8",
            "value": 5
          }
        },
        "43b37e5a4544452988c291ab6f931f82": {
          "model_module": "@jupyter-widgets/controls",
          "model_name": "HTMLModel",
          "model_module_version": "1.5.0",
          "state": {
            "_dom_classes": [],
            "_model_module": "@jupyter-widgets/controls",
            "_model_module_version": "1.5.0",
            "_model_name": "HTMLModel",
            "_view_count": null,
            "_view_module": "@jupyter-widgets/controls",
            "_view_module_version": "1.5.0",
            "_view_name": "HTMLView",
            "description": "",
            "description_tooltip": null,
            "layout": "IPY_MODEL_40afbf7b0f4948a88cf1daade9cafacb",
            "placeholder": "​",
            "style": "IPY_MODEL_34e91ede5c97467cb43cb32194b2c2ca",
            "value": " 5/5 [00:18&lt;00:00,  3.71s/it]"
          }
        },
        "4142bc8a4a2a45d9bf9dc8ebf1b07189": {
          "model_module": "@jupyter-widgets/base",
          "model_name": "LayoutModel",
          "model_module_version": "1.2.0",
          "state": {
            "_model_module": "@jupyter-widgets/base",
            "_model_module_version": "1.2.0",
            "_model_name": "LayoutModel",
            "_view_count": null,
            "_view_module": "@jupyter-widgets/base",
            "_view_module_version": "1.2.0",
            "_view_name": "LayoutView",
            "align_content": null,
            "align_items": null,
            "align_self": null,
            "border": null,
            "bottom": null,
            "display": null,
            "flex": null,
            "flex_flow": null,
            "grid_area": null,
            "grid_auto_columns": null,
            "grid_auto_flow": null,
            "grid_auto_rows": null,
            "grid_column": null,
            "grid_gap": null,
            "grid_row": null,
            "grid_template_areas": null,
            "grid_template_columns": null,
            "grid_template_rows": null,
            "height": null,
            "justify_content": null,
            "justify_items": null,
            "left": null,
            "margin": null,
            "max_height": null,
            "max_width": null,
            "min_height": null,
            "min_width": null,
            "object_fit": null,
            "object_position": null,
            "order": null,
            "overflow": null,
            "overflow_x": null,
            "overflow_y": null,
            "padding": null,
            "right": null,
            "top": null,
            "visibility": null,
            "width": null
          }
        },
        "2d0722bb4d92456fb77a2d5ccc39529e": {
          "model_module": "@jupyter-widgets/base",
          "model_name": "LayoutModel",
          "model_module_version": "1.2.0",
          "state": {
            "_model_module": "@jupyter-widgets/base",
            "_model_module_version": "1.2.0",
            "_model_name": "LayoutModel",
            "_view_count": null,
            "_view_module": "@jupyter-widgets/base",
            "_view_module_version": "1.2.0",
            "_view_name": "LayoutView",
            "align_content": null,
            "align_items": null,
            "align_self": null,
            "border": null,
            "bottom": null,
            "display": null,
            "flex": null,
            "flex_flow": null,
            "grid_area": null,
            "grid_auto_columns": null,
            "grid_auto_flow": null,
            "grid_auto_rows": null,
            "grid_column": null,
            "grid_gap": null,
            "grid_row": null,
            "grid_template_areas": null,
            "grid_template_columns": null,
            "grid_template_rows": null,
            "height": null,
            "justify_content": null,
            "justify_items": null,
            "left": null,
            "margin": null,
            "max_height": null,
            "max_width": null,
            "min_height": null,
            "min_width": null,
            "object_fit": null,
            "object_position": null,
            "order": null,
            "overflow": null,
            "overflow_x": null,
            "overflow_y": null,
            "padding": null,
            "right": null,
            "top": null,
            "visibility": null,
            "width": null
          }
        },
        "8a43529eae764ba191a4a9610c9b28bf": {
          "model_module": "@jupyter-widgets/controls",
          "model_name": "DescriptionStyleModel",
          "model_module_version": "1.5.0",
          "state": {
            "_model_module": "@jupyter-widgets/controls",
            "_model_module_version": "1.5.0",
            "_model_name": "DescriptionStyleModel",
            "_view_count": null,
            "_view_module": "@jupyter-widgets/base",
            "_view_module_version": "1.2.0",
            "_view_name": "StyleView",
            "description_width": ""
          }
        },
        "7236fdd199b7434d9ba31b856cf4b386": {
          "model_module": "@jupyter-widgets/base",
          "model_name": "LayoutModel",
          "model_module_version": "1.2.0",
          "state": {
            "_model_module": "@jupyter-widgets/base",
            "_model_module_version": "1.2.0",
            "_model_name": "LayoutModel",
            "_view_count": null,
            "_view_module": "@jupyter-widgets/base",
            "_view_module_version": "1.2.0",
            "_view_name": "LayoutView",
            "align_content": null,
            "align_items": null,
            "align_self": null,
            "border": null,
            "bottom": null,
            "display": null,
            "flex": null,
            "flex_flow": null,
            "grid_area": null,
            "grid_auto_columns": null,
            "grid_auto_flow": null,
            "grid_auto_rows": null,
            "grid_column": null,
            "grid_gap": null,
            "grid_row": null,
            "grid_template_areas": null,
            "grid_template_columns": null,
            "grid_template_rows": null,
            "height": null,
            "justify_content": null,
            "justify_items": null,
            "left": null,
            "margin": null,
            "max_height": null,
            "max_width": null,
            "min_height": null,
            "min_width": null,
            "object_fit": null,
            "object_position": null,
            "order": null,
            "overflow": null,
            "overflow_x": null,
            "overflow_y": null,
            "padding": null,
            "right": null,
            "top": null,
            "visibility": null,
            "width": null
          }
        },
        "2eb94315dac44128997ac20a491141e8": {
          "model_module": "@jupyter-widgets/controls",
          "model_name": "ProgressStyleModel",
          "model_module_version": "1.5.0",
          "state": {
            "_model_module": "@jupyter-widgets/controls",
            "_model_module_version": "1.5.0",
            "_model_name": "ProgressStyleModel",
            "_view_count": null,
            "_view_module": "@jupyter-widgets/base",
            "_view_module_version": "1.2.0",
            "_view_name": "StyleView",
            "bar_color": null,
            "description_width": ""
          }
        },
        "40afbf7b0f4948a88cf1daade9cafacb": {
          "model_module": "@jupyter-widgets/base",
          "model_name": "LayoutModel",
          "model_module_version": "1.2.0",
          "state": {
            "_model_module": "@jupyter-widgets/base",
            "_model_module_version": "1.2.0",
            "_model_name": "LayoutModel",
            "_view_count": null,
            "_view_module": "@jupyter-widgets/base",
            "_view_module_version": "1.2.0",
            "_view_name": "LayoutView",
            "align_content": null,
            "align_items": null,
            "align_self": null,
            "border": null,
            "bottom": null,
            "display": null,
            "flex": null,
            "flex_flow": null,
            "grid_area": null,
            "grid_auto_columns": null,
            "grid_auto_flow": null,
            "grid_auto_rows": null,
            "grid_column": null,
            "grid_gap": null,
            "grid_row": null,
            "grid_template_areas": null,
            "grid_template_columns": null,
            "grid_template_rows": null,
            "height": null,
            "justify_content": null,
            "justify_items": null,
            "left": null,
            "margin": null,
            "max_height": null,
            "max_width": null,
            "min_height": null,
            "min_width": null,
            "object_fit": null,
            "object_position": null,
            "order": null,
            "overflow": null,
            "overflow_x": null,
            "overflow_y": null,
            "padding": null,
            "right": null,
            "top": null,
            "visibility": null,
            "width": null
          }
        },
        "34e91ede5c97467cb43cb32194b2c2ca": {
          "model_module": "@jupyter-widgets/controls",
          "model_name": "DescriptionStyleModel",
          "model_module_version": "1.5.0",
          "state": {
            "_model_module": "@jupyter-widgets/controls",
            "_model_module_version": "1.5.0",
            "_model_name": "DescriptionStyleModel",
            "_view_count": null,
            "_view_module": "@jupyter-widgets/base",
            "_view_module_version": "1.2.0",
            "_view_name": "StyleView",
            "description_width": ""
          }
        },
        "63c504b6f6b148188dfc939fea309edc": {
          "model_module": "@jupyter-widgets/controls",
          "model_name": "HBoxModel",
          "model_module_version": "1.5.0",
          "state": {
            "_dom_classes": [],
            "_model_module": "@jupyter-widgets/controls",
            "_model_module_version": "1.5.0",
            "_model_name": "HBoxModel",
            "_view_count": null,
            "_view_module": "@jupyter-widgets/controls",
            "_view_module_version": "1.5.0",
            "_view_name": "HBoxView",
            "box_style": "",
            "children": [
              "IPY_MODEL_2339557ae26b48fa9f60185ecdb2b38b",
              "IPY_MODEL_46bda3d072834467920fa8f8c7cbabba",
              "IPY_MODEL_3485cc8923d64570b5bbcd5c88428318"
            ],
            "layout": "IPY_MODEL_b330faec432c4a7da071b012108443f8"
          }
        },
        "2339557ae26b48fa9f60185ecdb2b38b": {
          "model_module": "@jupyter-widgets/controls",
          "model_name": "HTMLModel",
          "model_module_version": "1.5.0",
          "state": {
            "_dom_classes": [],
            "_model_module": "@jupyter-widgets/controls",
            "_model_module_version": "1.5.0",
            "_model_name": "HTMLModel",
            "_view_count": null,
            "_view_module": "@jupyter-widgets/controls",
            "_view_module_version": "1.5.0",
            "_view_name": "HTMLView",
            "description": "",
            "description_tooltip": null,
            "layout": "IPY_MODEL_304c7d4de6804838b7914f5193659e48",
            "placeholder": "​",
            "style": "IPY_MODEL_f6b00d25248a481eab759aa2d5db6ecf",
            "value": "100%"
          }
        },
        "46bda3d072834467920fa8f8c7cbabba": {
          "model_module": "@jupyter-widgets/controls",
          "model_name": "FloatProgressModel",
          "model_module_version": "1.5.0",
          "state": {
            "_dom_classes": [],
            "_model_module": "@jupyter-widgets/controls",
            "_model_module_version": "1.5.0",
            "_model_name": "FloatProgressModel",
            "_view_count": null,
            "_view_module": "@jupyter-widgets/controls",
            "_view_module_version": "1.5.0",
            "_view_name": "ProgressView",
            "bar_style": "success",
            "description": "",
            "description_tooltip": null,
            "layout": "IPY_MODEL_8408e490c4f6479dabeac24bd42f05e6",
            "max": 5,
            "min": 0,
            "orientation": "horizontal",
            "style": "IPY_MODEL_e04e55e83ae94b2ba3aedffb7117f4b4",
            "value": 5
          }
        },
        "3485cc8923d64570b5bbcd5c88428318": {
          "model_module": "@jupyter-widgets/controls",
          "model_name": "HTMLModel",
          "model_module_version": "1.5.0",
          "state": {
            "_dom_classes": [],
            "_model_module": "@jupyter-widgets/controls",
            "_model_module_version": "1.5.0",
            "_model_name": "HTMLModel",
            "_view_count": null,
            "_view_module": "@jupyter-widgets/controls",
            "_view_module_version": "1.5.0",
            "_view_name": "HTMLView",
            "description": "",
            "description_tooltip": null,
            "layout": "IPY_MODEL_bf5243c90ced411ab24fc45dda2988f4",
            "placeholder": "​",
            "style": "IPY_MODEL_ba08a6118d1c4e1992e20dd700bbece1",
            "value": " 5/5 [00:00&lt;00:00,  1.06it/s]"
          }
        },
        "b330faec432c4a7da071b012108443f8": {
          "model_module": "@jupyter-widgets/base",
          "model_name": "LayoutModel",
          "model_module_version": "1.2.0",
          "state": {
            "_model_module": "@jupyter-widgets/base",
            "_model_module_version": "1.2.0",
            "_model_name": "LayoutModel",
            "_view_count": null,
            "_view_module": "@jupyter-widgets/base",
            "_view_module_version": "1.2.0",
            "_view_name": "LayoutView",
            "align_content": null,
            "align_items": null,
            "align_self": null,
            "border": null,
            "bottom": null,
            "display": null,
            "flex": null,
            "flex_flow": null,
            "grid_area": null,
            "grid_auto_columns": null,
            "grid_auto_flow": null,
            "grid_auto_rows": null,
            "grid_column": null,
            "grid_gap": null,
            "grid_row": null,
            "grid_template_areas": null,
            "grid_template_columns": null,
            "grid_template_rows": null,
            "height": null,
            "justify_content": null,
            "justify_items": null,
            "left": null,
            "margin": null,
            "max_height": null,
            "max_width": null,
            "min_height": null,
            "min_width": null,
            "object_fit": null,
            "object_position": null,
            "order": null,
            "overflow": null,
            "overflow_x": null,
            "overflow_y": null,
            "padding": null,
            "right": null,
            "top": null,
            "visibility": null,
            "width": null
          }
        },
        "304c7d4de6804838b7914f5193659e48": {
          "model_module": "@jupyter-widgets/base",
          "model_name": "LayoutModel",
          "model_module_version": "1.2.0",
          "state": {
            "_model_module": "@jupyter-widgets/base",
            "_model_module_version": "1.2.0",
            "_model_name": "LayoutModel",
            "_view_count": null,
            "_view_module": "@jupyter-widgets/base",
            "_view_module_version": "1.2.0",
            "_view_name": "LayoutView",
            "align_content": null,
            "align_items": null,
            "align_self": null,
            "border": null,
            "bottom": null,
            "display": null,
            "flex": null,
            "flex_flow": null,
            "grid_area": null,
            "grid_auto_columns": null,
            "grid_auto_flow": null,
            "grid_auto_rows": null,
            "grid_column": null,
            "grid_gap": null,
            "grid_row": null,
            "grid_template_areas": null,
            "grid_template_columns": null,
            "grid_template_rows": null,
            "height": null,
            "justify_content": null,
            "justify_items": null,
            "left": null,
            "margin": null,
            "max_height": null,
            "max_width": null,
            "min_height": null,
            "min_width": null,
            "object_fit": null,
            "object_position": null,
            "order": null,
            "overflow": null,
            "overflow_x": null,
            "overflow_y": null,
            "padding": null,
            "right": null,
            "top": null,
            "visibility": null,
            "width": null
          }
        },
        "f6b00d25248a481eab759aa2d5db6ecf": {
          "model_module": "@jupyter-widgets/controls",
          "model_name": "DescriptionStyleModel",
          "model_module_version": "1.5.0",
          "state": {
            "_model_module": "@jupyter-widgets/controls",
            "_model_module_version": "1.5.0",
            "_model_name": "DescriptionStyleModel",
            "_view_count": null,
            "_view_module": "@jupyter-widgets/base",
            "_view_module_version": "1.2.0",
            "_view_name": "StyleView",
            "description_width": ""
          }
        },
        "8408e490c4f6479dabeac24bd42f05e6": {
          "model_module": "@jupyter-widgets/base",
          "model_name": "LayoutModel",
          "model_module_version": "1.2.0",
          "state": {
            "_model_module": "@jupyter-widgets/base",
            "_model_module_version": "1.2.0",
            "_model_name": "LayoutModel",
            "_view_count": null,
            "_view_module": "@jupyter-widgets/base",
            "_view_module_version": "1.2.0",
            "_view_name": "LayoutView",
            "align_content": null,
            "align_items": null,
            "align_self": null,
            "border": null,
            "bottom": null,
            "display": null,
            "flex": null,
            "flex_flow": null,
            "grid_area": null,
            "grid_auto_columns": null,
            "grid_auto_flow": null,
            "grid_auto_rows": null,
            "grid_column": null,
            "grid_gap": null,
            "grid_row": null,
            "grid_template_areas": null,
            "grid_template_columns": null,
            "grid_template_rows": null,
            "height": null,
            "justify_content": null,
            "justify_items": null,
            "left": null,
            "margin": null,
            "max_height": null,
            "max_width": null,
            "min_height": null,
            "min_width": null,
            "object_fit": null,
            "object_position": null,
            "order": null,
            "overflow": null,
            "overflow_x": null,
            "overflow_y": null,
            "padding": null,
            "right": null,
            "top": null,
            "visibility": null,
            "width": null
          }
        },
        "e04e55e83ae94b2ba3aedffb7117f4b4": {
          "model_module": "@jupyter-widgets/controls",
          "model_name": "ProgressStyleModel",
          "model_module_version": "1.5.0",
          "state": {
            "_model_module": "@jupyter-widgets/controls",
            "_model_module_version": "1.5.0",
            "_model_name": "ProgressStyleModel",
            "_view_count": null,
            "_view_module": "@jupyter-widgets/base",
            "_view_module_version": "1.2.0",
            "_view_name": "StyleView",
            "bar_color": null,
            "description_width": ""
          }
        },
        "bf5243c90ced411ab24fc45dda2988f4": {
          "model_module": "@jupyter-widgets/base",
          "model_name": "LayoutModel",
          "model_module_version": "1.2.0",
          "state": {
            "_model_module": "@jupyter-widgets/base",
            "_model_module_version": "1.2.0",
            "_model_name": "LayoutModel",
            "_view_count": null,
            "_view_module": "@jupyter-widgets/base",
            "_view_module_version": "1.2.0",
            "_view_name": "LayoutView",
            "align_content": null,
            "align_items": null,
            "align_self": null,
            "border": null,
            "bottom": null,
            "display": null,
            "flex": null,
            "flex_flow": null,
            "grid_area": null,
            "grid_auto_columns": null,
            "grid_auto_flow": null,
            "grid_auto_rows": null,
            "grid_column": null,
            "grid_gap": null,
            "grid_row": null,
            "grid_template_areas": null,
            "grid_template_columns": null,
            "grid_template_rows": null,
            "height": null,
            "justify_content": null,
            "justify_items": null,
            "left": null,
            "margin": null,
            "max_height": null,
            "max_width": null,
            "min_height": null,
            "min_width": null,
            "object_fit": null,
            "object_position": null,
            "order": null,
            "overflow": null,
            "overflow_x": null,
            "overflow_y": null,
            "padding": null,
            "right": null,
            "top": null,
            "visibility": null,
            "width": null
          }
        },
        "ba08a6118d1c4e1992e20dd700bbece1": {
          "model_module": "@jupyter-widgets/controls",
          "model_name": "DescriptionStyleModel",
          "model_module_version": "1.5.0",
          "state": {
            "_model_module": "@jupyter-widgets/controls",
            "_model_module_version": "1.5.0",
            "_model_name": "DescriptionStyleModel",
            "_view_count": null,
            "_view_module": "@jupyter-widgets/base",
            "_view_module_version": "1.2.0",
            "_view_name": "StyleView",
            "description_width": ""
          }
        }
      }
    }
  },
  "cells": [
    {
      "cell_type": "code",
      "source": [
        "!pip install scikit-dimension\n",
        "!pip install --upgrade scikit-learn"
      ],
      "metadata": {
        "colab": {
          "base_uri": "https://localhost:8080/"
        },
        "id": "wz5_zK6w6h83",
        "outputId": "a0db741f-0a1f-494d-b064-8f7257380332"
      },
      "execution_count": null,
      "outputs": [
        {
          "output_type": "stream",
          "name": "stdout",
          "text": [
            "Looking in indexes: https://pypi.org/simple, https://us-python.pkg.dev/colab-wheels/public/simple/\n",
            "Requirement already satisfied: scikit-dimension in /usr/local/lib/python3.7/dist-packages (0.3)\n",
            "Requirement already satisfied: numpy in /usr/local/lib/python3.7/dist-packages (from scikit-dimension) (1.21.6)\n",
            "Requirement already satisfied: scipy in /usr/local/lib/python3.7/dist-packages (from scikit-dimension) (1.7.3)\n",
            "Requirement already satisfied: scikit-learn in /usr/local/lib/python3.7/dist-packages (from scikit-dimension) (1.0.2)\n",
            "Requirement already satisfied: threadpoolctl>=2.0.0 in /usr/local/lib/python3.7/dist-packages (from scikit-learn->scikit-dimension) (3.1.0)\n",
            "Requirement already satisfied: joblib>=0.11 in /usr/local/lib/python3.7/dist-packages (from scikit-learn->scikit-dimension) (1.1.0)\n",
            "Looking in indexes: https://pypi.org/simple, https://us-python.pkg.dev/colab-wheels/public/simple/\n",
            "Requirement already satisfied: scikit-learn in /usr/local/lib/python3.7/dist-packages (1.0.2)\n",
            "Requirement already satisfied: numpy>=1.14.6 in /usr/local/lib/python3.7/dist-packages (from scikit-learn) (1.21.6)\n",
            "Requirement already satisfied: joblib>=0.11 in /usr/local/lib/python3.7/dist-packages (from scikit-learn) (1.1.0)\n",
            "Requirement already satisfied: threadpoolctl>=2.0.0 in /usr/local/lib/python3.7/dist-packages (from scikit-learn) (3.1.0)\n",
            "Requirement already satisfied: scipy>=1.1.0 in /usr/local/lib/python3.7/dist-packages (from scikit-learn) (1.7.3)\n"
          ]
        }
      ]
    },
    {
      "cell_type": "code",
      "execution_count": null,
      "metadata": {
        "id": "lCLEK86p0HBv"
      },
      "outputs": [],
      "source": [
        "from google.colab import drive"
      ]
    },
    {
      "cell_type": "code",
      "source": [
        "drive.mount('./drive')"
      ],
      "metadata": {
        "colab": {
          "base_uri": "https://localhost:8080/"
        },
        "id": "6qJATDsQ0K8w",
        "outputId": "79e76c57-4160-42ee-d31c-f98b1b87b7b8"
      },
      "execution_count": null,
      "outputs": [
        {
          "output_type": "stream",
          "name": "stdout",
          "text": [
            "Drive already mounted at ./drive; to attempt to forcibly remount, call drive.mount(\"./drive\", force_remount=True).\n"
          ]
        }
      ]
    },
    {
      "cell_type": "code",
      "source": [
        "import numpy as np\n",
        "import matplotlib.pyplot as plt\n",
        "import torch\n",
        "import torch.nn as nn\n",
        "from tqdm.notebook import tqdm"
      ],
      "metadata": {
        "id": "ILhW-lu20Nr_"
      },
      "execution_count": null,
      "outputs": []
    },
    {
      "cell_type": "code",
      "source": [
        "!cp 'drive/MyDrive/optimizer/data/R14.zip' R14.zip"
      ],
      "metadata": {
        "id": "BFT2rZW_0hK8"
      },
      "execution_count": null,
      "outputs": []
    },
    {
      "cell_type": "code",
      "source": [
        "!unzip R14.zip"
      ],
      "metadata": {
        "colab": {
          "base_uri": "https://localhost:8080/"
        },
        "id": "913Ttc7h1AHb",
        "outputId": "4ea787e1-6ffc-4e3c-dfe2-304df9706e88"
      },
      "execution_count": null,
      "outputs": [
        {
          "output_type": "stream",
          "name": "stdout",
          "text": [
            "Archive:  R14.zip\n",
            "replace R14.txt? [y]es, [n]o, [A]ll, [N]one, [r]ename: "
          ]
        }
      ]
    },
    {
      "cell_type": "code",
      "source": [
        "!head R14.txt"
      ],
      "metadata": {
        "colab": {
          "base_uri": "https://localhost:8080/"
        },
        "id": "k1g1jnmx1CnE",
        "outputId": "0ecedf22-98f0-4f94-ae08-2264a110fbb4"
      },
      "execution_count": null,
      "outputs": [
        {
          "output_type": "stream",
          "name": "stdout",
          "text": [
            "4 50000 5 5 0\n",
            "1 1 1 1 1\n",
            "260.874617961654450 -11.074015931188864 -31.937055959914559 -86.974392830212068\n",
            "257.143417456671560 -11.713995017568594 -30.031099829022246 -89.505484663508526\n",
            "243.858608945004930 -2.148497187948407 -36.208420827061069 -83.648976302414823\n",
            "245.836272803356450 -7.078722721892051 -23.609197260812266 -68.942147448676494\n",
            "257.552367999638250 -14.518605263565551 -26.708449875252050 -92.042528316043644\n",
            "240.132839297730240 -1.126504779954136 -30.212870097767116 -69.503107700165998\n",
            "256.875163427794580 -8.767736915070001 -33.092022248623742 -86.015235548215017\n",
            "248.381659231523740 -15.734766356142114 -21.252686024394219 -94.608755720602801\n"
          ]
        }
      ]
    },
    {
      "cell_type": "code",
      "source": [
        "with open('R14.txt') as fp:\n",
        "  line = fp.readline()\n",
        "  line = line.split(' ')\n",
        "  d, n, m, k, p = [int(item) for item in line]\n",
        "  line = fp.readline()\n",
        "  line = line.split(' ')\n",
        "  K = [int(item) for item in line]\n"
      ],
      "metadata": {
        "id": "uhObtNEL1Fda"
      },
      "execution_count": null,
      "outputs": []
    },
    {
      "cell_type": "code",
      "source": [
        "!tail -n +3 R14.txt > R14_clean.txt"
      ],
      "metadata": {
        "id": "j7DKEAVC2h9f"
      },
      "execution_count": null,
      "outputs": []
    },
    {
      "cell_type": "code",
      "source": [
        "vectors = np.fromfile('R14_clean.txt', sep=' ').reshape(n, -1)"
      ],
      "metadata": {
        "id": "sZXui17O18hQ"
      },
      "execution_count": null,
      "outputs": []
    },
    {
      "cell_type": "code",
      "source": [
        "vectors"
      ],
      "metadata": {
        "colab": {
          "base_uri": "https://localhost:8080/"
        },
        "id": "Oo3uTWYY2-UC",
        "outputId": "f6359101-f5a2-4a69-abbc-37fb443a96f7"
      },
      "execution_count": null,
      "outputs": [
        {
          "output_type": "execute_result",
          "data": {
            "text/plain": [
              "array([[ 260.87461796,  -11.07401593,  -31.93705596,  -86.97439283],\n",
              "       [ 257.14341746,  -11.71399502,  -30.03109983,  -89.50548466],\n",
              "       [ 243.85860895,   -2.14849719,  -36.20842083,  -83.6489763 ],\n",
              "       ...,\n",
              "       [ 242.48607339,   -7.24154497,  -20.95069986,  -67.44231576],\n",
              "       [ 184.65839054,  -35.13423594,  -76.81411826, -118.13279221],\n",
              "       [ 257.54034916,  -11.04759466,  -23.61650369,  -70.46063614]])"
            ]
          },
          "metadata": {},
          "execution_count": 577
        }
      ]
    },
    {
      "cell_type": "code",
      "source": [
        "fig = plt.figure(figsize=(12, 12))\n",
        "ax = fig.add_subplot(projection='3d')\n",
        "\n",
        "\n",
        "ax.scatter(vectors[:, 0], vectors[:, 1], vectors[:, 2])\n",
        "_ = plt.show()"
      ],
      "metadata": {
        "colab": {
          "base_uri": "https://localhost:8080/",
          "height": 683
        },
        "id": "BCO59JzL3sT0",
        "outputId": "2a39ad5e-6f80-4e35-9eaf-5ab312ec4a96"
      },
      "execution_count": null,
      "outputs": [
        {
          "output_type": "display_data",
          "data": {
            "text/plain": [
              "<Figure size 864x864 with 1 Axes>"
            ],
            "image/png": "[encoded data removed]"
          },
          "metadata": {
            "needs_background": "light"
          }
        }
      ]
    },
    {
      "cell_type": "code",
      "source": [
        "from sklearn.mixture import GaussianMixture, BayesianGaussianMixture\n",
        "\n",
        "gmm = GaussianMixture(n_components=k, covariance_type='spherical', \n",
        "                      random_state=0, n_init=32, max_iter=10000, tol=1e-7)\n",
        "gmm.fit(vectors)\n",
        "\n"
      ],
      "metadata": {
        "colab": {
          "base_uri": "https://localhost:8080/"
        },
        "id": "jOkBfRhX4JJj",
        "outputId": "283ee4a2-8493-4454-db33-351c5430d89d"
      },
      "execution_count": null,
      "outputs": [
        {
          "output_type": "execute_result",
          "data": {
            "text/plain": [
              "GaussianMixture(covariance_type='spherical', max_iter=10000, n_components=5,\n",
              "                n_init=32, random_state=0, tol=1e-07)"
            ]
          },
          "metadata": {},
          "execution_count": 579
        }
      ]
    },
    {
      "cell_type": "code",
      "source": [
        "gmm.means_"
      ],
      "metadata": {
        "colab": {
          "base_uri": "https://localhost:8080/"
        },
        "id": "Jm2PfrGu6Zbt",
        "outputId": "d0b99816-cc5c-43b9-edf0-14e6f7e48a75"
      },
      "execution_count": null,
      "outputs": [
        {
          "output_type": "execute_result",
          "data": {
            "text/plain": [
              "array([[ 247.68548657,   -8.59980445,  -27.08035959,  -81.62709147],\n",
              "       [  61.62462282,  -41.0766909 ,  -50.55175105,   11.9399921 ],\n",
              "       [ 184.99532796,  -35.10798653,  -81.19733719, -124.27438491],\n",
              "       [   0.67702561,    0.35861824,    8.73108494,   13.77762411],\n",
              "       [ 123.74989091,  -18.2346417 ,  -54.32722788,  -57.58691663]])"
            ]
          },
          "metadata": {},
          "execution_count": 580
        }
      ]
    },
    {
      "cell_type": "code",
      "source": [
        "def top_k_outliers(vectors, k):\n",
        "  scores = gmm.score_samples(vectors)\n",
        "  top_k = np.argpartition(-scores, -k)[-k:]\n",
        "  return top_k, scores[top_k]"
      ],
      "metadata": {
        "id": "eer-wyoURGzQ"
      },
      "execution_count": null,
      "outputs": []
    },
    {
      "cell_type": "code",
      "source": [
        "outlier_ind, _ = top_k_outliers(vectors, p)"
      ],
      "metadata": {
        "id": "cE5ErN6rRqfJ"
      },
      "execution_count": null,
      "outputs": []
    },
    {
      "cell_type": "code",
      "source": [
        "labels = gmm.predict(vectors)\n",
        "if p > 0:\n",
        "  labels[outlier_ind] = -1"
      ],
      "metadata": {
        "id": "d7K5Ci0r7fEf"
      },
      "execution_count": null,
      "outputs": []
    },
    {
      "cell_type": "code",
      "source": [
        "labels"
      ],
      "metadata": {
        "colab": {
          "base_uri": "https://localhost:8080/"
        },
        "id": "YaJy2ST8uyvr",
        "outputId": "b8ff2ae4-7cb9-461c-fe99-e9184b753663"
      },
      "execution_count": null,
      "outputs": [
        {
          "output_type": "execute_result",
          "data": {
            "text/plain": [
              "array([0, 0, 0, ..., 0, 2, 0])"
            ]
          },
          "metadata": {},
          "execution_count": 584
        }
      ]
    },
    {
      "cell_type": "code",
      "source": [
        "from numba import njit, jit\n",
        "\n",
        "@jit\n",
        "def noisy_center_radius(points, k):\n",
        "  dist_matrix = np.zeros((points.shape[0], points.shape[0]))\n",
        "  for i in range(points.shape[0]):\n",
        "    for j in range(i):\n",
        "      dist = np.linalg.norm(points[i] - points[j])\n",
        "      dist_matrix[i, j] = dist\n",
        "  dist_matrix = dist_matrix.reshape(-1)\n",
        "  top_k_dist = np.argsort(dist_matrix)[-k:]\n",
        "  rows = top_k_dist // points.shape[0]\n",
        "  cols = top_k_dist % points.shape[0]\n",
        "  center = 0.5*(points[cols] + points[rows]).mean(axis=0)\n",
        "  radius = dist_matrix[top_k_dist].mean()/2\n",
        "  return center, radius\n",
        "\n",
        "def center_radius(points):\n",
        "  dist = torch.cdist(points, points)\n",
        "  ind = dist.argmax()\n",
        "  row = (torch.div(ind, points.size(0), rounding_mode='floor')).item()\n",
        "  col = (ind % points.size(0)).item()\n",
        "  radius = (dist[row, col]/2).item()\n",
        "  center = 0.5 * (points[row] + points[col])\n",
        "  return center, radius\n",
        "\n",
        "\n",
        "manifold_center = []\n",
        "manifold_radius = []\n",
        "\n",
        "for sphere in tqdm(range(k)):\n",
        "  # points = torch.from_numpy(vectors[labels==sphere])\n",
        "  points = vectors[labels==sphere]\n",
        "  center, radius = noisy_center_radius(points, 64)\n",
        "  manifold_center.append(center)\n",
        "  manifold_radius.append(radius)\n",
        "\n",
        "manifold_center = np.vstack(manifold_center)"
      ],
      "metadata": {
        "id": "j_Qx5KAlrevo",
        "colab": {
          "base_uri": "https://localhost:8080/",
          "height": 49,
          "referenced_widgets": [
            "743c5917a970455d8af5f4edb41fb08b",
            "db303956213149af95c02e1c8f5cbfa6",
            "79853bc8acb84efa9f6d6d2ecadde203",
            "8ea565c38b514164ba87f3ebebfbf3db",
            "bc21451be2b54d16a6d72df7896972af",
            "5106907074414943a83501416a500cd0",
            "bcfe0165f04d43fab996a8189330a2aa",
            "6ffca1f5561a45c390e7b3a915046a21",
            "288ce167396a46d6aa4116c90dc126de",
            "8aee3b64bfe14a67be220c7dec8a868a",
            "aef9454e72d34b11a6e831ea58eac9ad"
          ]
        },
        "outputId": "1f2dfbdb-030a-4782-838f-3dd2b292b1f6"
      },
      "execution_count": null,
      "outputs": [
        {
          "output_type": "display_data",
          "data": {
            "text/plain": [
              "  0%|          | 0/5 [00:00<?, ?it/s]"
            ],
            "application/vnd.jupyter.widget-view+json": {
              "version_major": 2,
              "version_minor": 0,
              "model_id": "743c5917a970455d8af5f4edb41fb08b"
            }
          },
          "metadata": {}
        }
      ]
    },
    {
      "cell_type": "code",
      "source": [
        "gmm.means_"
      ],
      "metadata": {
        "colab": {
          "base_uri": "https://localhost:8080/"
        },
        "id": "j0a6CaMJQX1V",
        "outputId": "db5bef80-0609-4d36-94a9-a47415c6c431"
      },
      "execution_count": null,
      "outputs": [
        {
          "output_type": "execute_result",
          "data": {
            "text/plain": [
              "array([[ 247.68548657,   -8.59980445,  -27.08035959,  -81.62709147],\n",
              "       [  61.62462282,  -41.0766909 ,  -50.55175105,   11.9399921 ],\n",
              "       [ 184.99532796,  -35.10798653,  -81.19733719, -124.27438491],\n",
              "       [   0.67702561,    0.35861824,    8.73108494,   13.77762411],\n",
              "       [ 123.74989091,  -18.2346417 ,  -54.32722788,  -57.58691663]])"
            ]
          },
          "metadata": {},
          "execution_count": 587
        }
      ]
    },
    {
      "cell_type": "code",
      "source": [
        "manifold_radius"
      ],
      "metadata": {
        "colab": {
          "base_uri": "https://localhost:8080/"
        },
        "id": "_rv50zJlOLdn",
        "outputId": "f0959891-ba67-4fd9-d3dc-d6909bd7a190"
      },
      "execution_count": null,
      "outputs": [
        {
          "output_type": "execute_result",
          "data": {
            "text/plain": [
              "[16.084838904827468,\n",
              " 16.085285626295025,\n",
              " 16.089088421455443,\n",
              " 16.08647762591705,\n",
              " 16.08557915961447]"
            ]
          },
          "metadata": {},
          "execution_count": 588
        }
      ]
    },
    {
      "cell_type": "code",
      "source": [
        "manifold_center"
      ],
      "metadata": {
        "colab": {
          "base_uri": "https://localhost:8080/"
        },
        "id": "MLWmGmsKNevt",
        "outputId": "d660d902-1dc2-48e5-a818-c96c0aaf342e"
      },
      "execution_count": null,
      "outputs": [
        {
          "output_type": "execute_result",
          "data": {
            "text/plain": [
              "array([[ 2.46978954e+02, -8.44789427e+00, -2.69745411e+01,\n",
              "        -8.16410083e+01],\n",
              "       [ 6.18324512e+01, -4.15514098e+01, -5.11846994e+01,\n",
              "         1.19387280e+01],\n",
              "       [ 1.85247170e+02, -3.52576898e+01, -8.05155567e+01,\n",
              "        -1.24343733e+02],\n",
              "       [ 1.13063287e-01,  7.38237999e-01,  9.03144104e+00,\n",
              "         1.38469734e+01],\n",
              "       [ 1.23567386e+02, -1.78369659e+01, -5.51207967e+01,\n",
              "        -5.75490674e+01]])"
            ]
          },
          "metadata": {},
          "execution_count": 589
        }
      ]
    },
    {
      "cell_type": "code",
      "source": [
        "from scipy.optimize import minimize, differential_evolution\n",
        "\n",
        "@njit\n",
        "def loss_center_given_radius(center, points, radius):\n",
        "  return (((points - center)**2).sum(axis=1) > radius**2).sum()\n",
        "\n",
        "@jit\n",
        "def estimate_corrected_radius(sphere):\n",
        "  b1 = manifold_center[sphere, :] - .5\n",
        "  b2 = manifold_center[sphere, :] + .5\n",
        "  bounds = [(b1[i], b2[i]) for i in range(4)]\n",
        "  result = differential_evolution(func=loss_center_given_radius,\n",
        "                        bounds=bounds, maxiter=1500, popsize=128,\n",
        "                        args=(vectors[labels==sphere], 16.09))\n",
        "  print(result)\n",
        "  center = result.x\n",
        "                        \n",
        "  return center"
      ],
      "metadata": {
        "id": "A4Ltqx5xO-8q"
      },
      "execution_count": null,
      "outputs": []
    },
    {
      "cell_type": "code",
      "source": [
        "manifold_corrected_center = np.vstack([estimate_corrected_radius(sphere) for sphere in tqdm(range(k))])"
      ],
      "metadata": {
        "colab": {
          "base_uri": "https://localhost:8080/",
          "height": 570,
          "referenced_widgets": [
            "ffde2b63524d4876b3d602473e98b657",
            "aac23942c8434be292dcc76aec9850dd",
            "f9f177dca4db4f0688f3dc7f48a96c32",
            "2988bc57159440128c798c404e6000d0",
            "efbb81263c464c67972d342c5b85b70d",
            "c1ef72a44f614fad87e5ba7ad2bf7f0e",
            "123889136b774fab80ecc548a6be93dc",
            "050e617947eb4c899105895674eb7fa0",
            "9491b16f37f24d9f91425a9c170f8ec7",
            "726453f194134dc6b9778c95d65e0522",
            "fe5abf4cff354d45b98bbf5d11d3c4ef"
          ]
        },
        "id": "eZXkhoIoPsW4",
        "outputId": "14393eba-3ca2-4ea0-93d0-3d7cf0c00c11"
      },
      "execution_count": null,
      "outputs": [
        {
          "output_type": "display_data",
          "data": {
            "text/plain": [
              "  0%|          | 0/5 [00:00<?, ?it/s]"
            ],
            "application/vnd.jupyter.widget-view+json": {
              "version_major": 2,
              "version_minor": 0,
              "model_id": "ffde2b63524d4876b3d602473e98b657"
            }
          },
          "metadata": {}
        },
        {
          "output_type": "stream",
          "name": "stdout",
          "text": [
            "     fun: 112.0\n",
            " message: 'Optimization terminated successfully.'\n",
            "    nfev: 30213\n",
            "     nit: 58\n",
            " success: True\n",
            "       x: array([246.95389123,  -8.4702757 , -27.02126288, -81.6184977 ])\n",
            "     fun: 112.0\n",
            " message: 'Optimization terminated successfully.'\n",
            "    nfev: 27141\n",
            "     nit: 52\n",
            " success: True\n",
            "       x: array([ 61.8352135 , -41.51426916, -51.1929812 ,  11.92710705])\n",
            "     fun: 135.0\n",
            " message: 'Optimization terminated successfully.'\n",
            "    nfev: 22021\n",
            "     nit: 42\n",
            " success: True\n",
            "       x: array([ 185.25366702,  -35.22068062,  -80.50168978, -124.36514676])\n",
            "     fun: 131.0\n",
            " message: 'Optimization terminated successfully.'\n",
            "    nfev: 26117\n",
            "     nit: 50\n",
            " success: True\n",
            "       x: array([ 0.12066251,  0.72363456,  8.950088  , 13.80227843])\n",
            "     fun: 118.0\n",
            " message: 'Optimization terminated successfully.'\n",
            "    nfev: 27653\n",
            "     nit: 53\n",
            " success: True\n",
            "       x: array([123.54384616, -17.86570555, -55.04994486, -57.59393565])\n"
          ]
        }
      ]
    },
    {
      "cell_type": "code",
      "source": [
        "fig = plt.figure(figsize=(12, 12))\n",
        "ax = fig.add_subplot(projection='3d')\n",
        "\n",
        "# t_colors = (S.flatten().abs() < 0.1).numpy() * 1\n",
        "# ax.scatter(vectors[:, 0], vectors[:, 1], vectors[:, 2], c=t_colors)\n",
        "ax.scatter(vectors[:, 1], vectors[:, 2], vectors[:, 3], c=labels, alpha=0.01)\n",
        "for sphere in range(k):\n",
        "  ax.scatter(manifold_corrected_center[sphere, 1], manifold_corrected_center[sphere, 2], manifold_corrected_center[sphere, 3], c='red')\n",
        "\n",
        "_ = plt.show()"
      ],
      "metadata": {
        "colab": {
          "base_uri": "https://localhost:8080/",
          "height": 683
        },
        "id": "MYyx91Ia7i27",
        "outputId": "6b723c30-510b-41e3-c5d7-e6c15d11d5b7"
      },
      "execution_count": null,
      "outputs": [
        {
          "output_type": "display_data",
          "data": {
            "text/plain": [
              "<Figure size 864x864 with 1 Axes>"
            ],
            "image/png": "[encoded data removed]"
          },
          "metadata": {
            "needs_background": "light"
          }
        }
      ]
    },
    {
      "cell_type": "code",
      "source": [
        "import skdim.id as intd\n",
        "\n",
        "manifold_dims = []\n",
        "\n",
        "for sphere in tqdm(range(k)):\n",
        "  lpca = intd.lPCA().fit_pw(vectors[labels==sphere], n_neighbors = 64, n_jobs = 1)\n",
        "  manifold_dims.append(int(np.round(lpca.dimension_pw_.mean())))\n",
        "  "
      ],
      "metadata": {
        "colab": {
          "base_uri": "https://localhost:8080/",
          "height": 49,
          "referenced_widgets": [
            "0bff9d23e0c347968bb6e486578d093c",
            "01b0480bbcbe4f6b853c1ba1cd9bd4e1",
            "b1806eead04544e89a53e7ee2a54edbb",
            "43b37e5a4544452988c291ab6f931f82",
            "4142bc8a4a2a45d9bf9dc8ebf1b07189",
            "2d0722bb4d92456fb77a2d5ccc39529e",
            "8a43529eae764ba191a4a9610c9b28bf",
            "7236fdd199b7434d9ba31b856cf4b386",
            "2eb94315dac44128997ac20a491141e8",
            "40afbf7b0f4948a88cf1daade9cafacb",
            "34e91ede5c97467cb43cb32194b2c2ca"
          ]
        },
        "id": "4VYKfEjVOhi2",
        "outputId": "5d25add7-c912-4496-d7f2-36133d4e6190"
      },
      "execution_count": null,
      "outputs": [
        {
          "output_type": "display_data",
          "data": {
            "text/plain": [
              "  0%|          | 0/5 [00:00<?, ?it/s]"
            ],
            "application/vnd.jupyter.widget-view+json": {
              "version_major": 2,
              "version_minor": 0,
              "model_id": "0bff9d23e0c347968bb6e486578d093c"
            }
          },
          "metadata": {}
        }
      ]
    },
    {
      "cell_type": "code",
      "source": [
        "manifold_dims"
      ],
      "metadata": {
        "colab": {
          "base_uri": "https://localhost:8080/"
        },
        "id": "9JQ9R1LbPB_0",
        "outputId": "16e052ac-c03d-47ba-ec4d-a24ecd2210c2"
      },
      "execution_count": null,
      "outputs": [
        {
          "output_type": "execute_result",
          "data": {
            "text/plain": [
              "[3, 3, 3, 3, 3]"
            ]
          },
          "metadata": {},
          "execution_count": 620
        }
      ]
    },
    {
      "cell_type": "code",
      "source": [
        "from numba import njit\n",
        "\n",
        "@njit\n",
        "def get_best_fitting_plane_vector(centered):\n",
        "\n",
        "    # Calculate the covariance matrix of the coordinates\n",
        "    covariance_matrix = np.cov(centered, rowvar=False) # Variables = columns\n",
        "\n",
        "    # Calculate the eigenvalues & eigenvectors of the covariance matrix\n",
        "    e_val, e_vect = np.linalg.eig(covariance_matrix)\n",
        "\n",
        "    # The normal vector to the plane is the eigenvector associated to the minimum eigenvalue\n",
        "    min_eval = np.argmin(e_val)\n",
        "    normal_vector = e_vect[:, min_eval]\n",
        "\n",
        "    return normal_vector"
      ],
      "metadata": {
        "id": "E4IYm6dNqhm-"
      },
      "execution_count": null,
      "outputs": []
    },
    {
      "cell_type": "code",
      "source": [
        "affine_a = []\n",
        "affine_b = []\n",
        "\n",
        "for sphere in tqdm(range(k)):\n",
        "  points = vectors[labels==sphere]\n",
        "  shift = points.mean(axis=0)\n",
        "  centered = points - shift\n",
        "  a = get_best_fitting_plane_vector(centered)\n",
        "  b = a @ shift\n",
        "  affine_a.append(a)\n",
        "  affine_b.append(b)\n"
      ],
      "metadata": {
        "colab": {
          "base_uri": "https://localhost:8080/",
          "height": 49,
          "referenced_widgets": [
            "63c504b6f6b148188dfc939fea309edc",
            "2339557ae26b48fa9f60185ecdb2b38b",
            "46bda3d072834467920fa8f8c7cbabba",
            "3485cc8923d64570b5bbcd5c88428318",
            "b330faec432c4a7da071b012108443f8",
            "304c7d4de6804838b7914f5193659e48",
            "f6b00d25248a481eab759aa2d5db6ecf",
            "8408e490c4f6479dabeac24bd42f05e6",
            "e04e55e83ae94b2ba3aedffb7117f4b4",
            "bf5243c90ced411ab24fc45dda2988f4",
            "ba08a6118d1c4e1992e20dd700bbece1"
          ]
        },
        "id": "9G9ykUi9DcsW",
        "outputId": "2be3a5c3-8c95-447e-f689-e71f3e7c6569"
      },
      "execution_count": null,
      "outputs": [
        {
          "output_type": "display_data",
          "data": {
            "text/plain": [
              "  0%|          | 0/5 [00:00<?, ?it/s]"
            ],
            "application/vnd.jupyter.widget-view+json": {
              "version_major": 2,
              "version_minor": 0,
              "model_id": "63c504b6f6b148188dfc939fea309edc"
            }
          },
          "metadata": {}
        }
      ]
    },
    {
      "cell_type": "code",
      "source": [
        "affine_a"
      ],
      "metadata": {
        "colab": {
          "base_uri": "https://localhost:8080/"
        },
        "id": "X2j5-U-AHp7n",
        "outputId": "7f4a2dfe-6d89-4729-cd85-76f913647375"
      },
      "execution_count": null,
      "outputs": [
        {
          "output_type": "execute_result",
          "data": {
            "text/plain": [
              "[array([ 0.24868911,  0.79848253,  0.50890912, -0.20393842]),\n",
              " array([0.96518026, 0.13757317, 0.21630663, 0.05207805]),\n",
              " array([-0.46868729, -0.88318327, -0.01144044, -0.01373534]),\n",
              " array([ 0.00071218, -0.57413705,  0.5407358 ,  0.61479341]),\n",
              " array([ 0.13324384, -0.82753489, -0.45127147, -0.30624525])]"
            ]
          },
          "metadata": {},
          "execution_count": 666
        }
      ]
    },
    {
      "cell_type": "code",
      "source": [
        "affine_b"
      ],
      "metadata": {
        "colab": {
          "base_uri": "https://localhost:8080/"
        },
        "id": "MsmqfHWDqsFn",
        "outputId": "40dba16a-3d02-43ec-ad60-cc80e1828bc9"
      },
      "execution_count": null,
      "outputs": [
        {
          "output_type": "execute_result",
          "data": {
            "text/plain": [
              "[57.59534819130016,\n",
              " 43.514951865221576,\n",
              " -53.06228811120818,\n",
              " 12.986188888170368,\n",
              " 73.73076053825065]"
            ]
          },
          "metadata": {},
          "execution_count": 667
        }
      ]
    },
    {
      "cell_type": "code",
      "source": [
        "with open('output.txt', 'w+') as fp:\n",
        "  fp.write(f'{n} {k}\\n')\n",
        "  for sphere in range(k):\n",
        "    fp.write(f'{manifold_dims[sphere]} {K[sphere]} Sphere\\n')\n",
        "    fp.write(' '.join(affine_a[sphere].astype(str).tolist()) + '\\n')\n",
        "    fp.write(f'{affine_b[sphere]}\\n')\n",
        "    vec_ind = np.where(labels == sphere)[0]\n",
        "    fp.write(' '.join(manifold_corrected_center[sphere, :].astype(str).tolist()) + f' {manifold_radius[sphere]} \\n')\n",
        "    fp.write(f'{len(vec_ind)} ')\n",
        "    fp.write(' '.join((vec_ind+1).astype(str).tolist()))\n",
        "    fp.write('\\n')\n",
        "  fp.write(f'{p}')\n",
        "  if p > 0:\n",
        "    fp.write(' ' + ' '.join((outlier_ind+1).astype(str).tolist()))"
      ],
      "metadata": {
        "id": "ehRtrBzz8s3r"
      },
      "execution_count": null,
      "outputs": []
    }
  ]
}